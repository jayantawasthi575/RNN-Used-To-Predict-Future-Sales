{
 "cells": [
  {
   "cell_type": "code",
   "execution_count": 1,
   "metadata": {
    "_cell_guid": "b1076dfc-b9ad-4769-8c92-a6c4dae69d19",
    "_uuid": "8f2839f25d086af736a60e9eeb907d3b93b6e0e5",
    "execution": {
     "iopub.execute_input": "2020-10-11T04:14:48.257490Z",
     "iopub.status.busy": "2020-10-11T04:14:48.256509Z",
     "iopub.status.idle": "2020-10-11T04:14:48.262389Z",
     "shell.execute_reply": "2020-10-11T04:14:48.263033Z"
    },
    "papermill": {
     "duration": 0.097124,
     "end_time": "2020-10-11T04:14:48.263231",
     "exception": false,
     "start_time": "2020-10-11T04:14:48.166107",
     "status": "completed"
    },
    "tags": []
   },
   "outputs": [
    {
     "name": "stdout",
     "output_type": "stream",
     "text": [
      "/kaggle/input/competitive-data-science-predict-future-sales/test.csv\n",
      "/kaggle/input/competitive-data-science-predict-future-sales/item_categories.csv\n",
      "/kaggle/input/competitive-data-science-predict-future-sales/items.csv\n",
      "/kaggle/input/competitive-data-science-predict-future-sales/sample_submission.csv\n",
      "/kaggle/input/competitive-data-science-predict-future-sales/sales_train.csv\n",
      "/kaggle/input/competitive-data-science-predict-future-sales/shops.csv\n"
     ]
    }
   ],
   "source": [
    "# This Python 3 environment comes with many helpful analytics libraries installed\n",
    "# It is defined by the kaggle/python Docker image: https://github.com/kaggle/docker-python\n",
    "# For example, here's several helpful packages to load\n",
    "%matplotlib inline\n",
    "import matplotlib.pyplot as plt\n",
    "import numpy as np # linear algebra\n",
    "import pandas as pd # data processing, CSV file I/O (e.g. pd.read_csv)\n",
    "\n",
    "# Input data files are available in the read-only \"../input/\" directory\n",
    "# For example, running this (by clicking run or pressing Shift+Enter) will list all files under the input directory\n",
    "\n",
    "import os\n",
    "for dirname, _, filenames in os.walk('/kaggle/input'):\n",
    "    for filename in filenames:\n",
    "        print(os.path.join(dirname, filename))\n",
    "\n",
    "# You can write up to 5GB to the current directory (/kaggle/working/) that gets preserved as output when you create a version using \"Save & Run All\" \n",
    "# You can also write temporary files to /kaggle/temp/, but they won't be saved outside of the current session"
   ]
  },
  {
   "cell_type": "markdown",
   "metadata": {
    "papermill": {
     "duration": 0.079311,
     "end_time": "2020-10-11T04:14:48.421529",
     "exception": false,
     "start_time": "2020-10-11T04:14:48.342218",
     "status": "completed"
    },
    "tags": []
   },
   "source": [
    "# Data Visulization/Data Preprocessing"
   ]
  },
  {
   "cell_type": "code",
   "execution_count": 2,
   "metadata": {
    "_cell_guid": "79c7e3d0-c299-4dcb-8224-4455121ee9b0",
    "_uuid": "d629ff2d2480ee46fbb7e2d37f6b5fab8052498a",
    "execution": {
     "iopub.execute_input": "2020-10-11T04:14:48.586827Z",
     "iopub.status.busy": "2020-10-11T04:14:48.586127Z",
     "iopub.status.idle": "2020-10-11T04:14:50.442919Z",
     "shell.execute_reply": "2020-10-11T04:14:50.442301Z"
    },
    "papermill": {
     "duration": 1.943245,
     "end_time": "2020-10-11T04:14:50.443031",
     "exception": false,
     "start_time": "2020-10-11T04:14:48.499786",
     "status": "completed"
    },
    "tags": []
   },
   "outputs": [],
   "source": [
    "train=pd.read_csv(\"/kaggle/input/competitive-data-science-predict-future-sales/sales_train.csv\")\n"
   ]
  },
  {
   "cell_type": "code",
   "execution_count": 3,
   "metadata": {
    "execution": {
     "iopub.execute_input": "2020-10-11T04:14:50.629650Z",
     "iopub.status.busy": "2020-10-11T04:14:50.628812Z",
     "iopub.status.idle": "2020-10-11T04:14:50.633051Z",
     "shell.execute_reply": "2020-10-11T04:14:50.633797Z"
    },
    "papermill": {
     "duration": 0.104121,
     "end_time": "2020-10-11T04:14:50.634006",
     "exception": false,
     "start_time": "2020-10-11T04:14:50.529885",
     "status": "completed"
    },
    "tags": []
   },
   "outputs": [
    {
     "name": "stdout",
     "output_type": "stream",
     "text": [
      "<class 'pandas.core.frame.DataFrame'>\n",
      "RangeIndex: 2935849 entries, 0 to 2935848\n",
      "Data columns (total 6 columns):\n",
      " #   Column          Dtype  \n",
      "---  ------          -----  \n",
      " 0   date            object \n",
      " 1   date_block_num  int64  \n",
      " 2   shop_id         int64  \n",
      " 3   item_id         int64  \n",
      " 4   item_price      float64\n",
      " 5   item_cnt_day    float64\n",
      "dtypes: float64(2), int64(3), object(1)\n",
      "memory usage: 134.4+ MB\n"
     ]
    }
   ],
   "source": [
    "train.info()"
   ]
  },
  {
   "cell_type": "code",
   "execution_count": 4,
   "metadata": {
    "execution": {
     "iopub.execute_input": "2020-10-11T04:14:50.819260Z",
     "iopub.status.busy": "2020-10-11T04:14:50.818490Z",
     "iopub.status.idle": "2020-10-11T04:14:50.873953Z",
     "shell.execute_reply": "2020-10-11T04:14:50.873373Z"
    },
    "papermill": {
     "duration": 0.149953,
     "end_time": "2020-10-11T04:14:50.874062",
     "exception": false,
     "start_time": "2020-10-11T04:14:50.724109",
     "status": "completed"
    },
    "tags": []
   },
   "outputs": [],
   "source": [
    "sample=pd.read_csv(\"/kaggle/input/competitive-data-science-predict-future-sales/sample_submission.csv\")\n"
   ]
  },
  {
   "cell_type": "code",
   "execution_count": 5,
   "metadata": {
    "execution": {
     "iopub.execute_input": "2020-10-11T04:14:51.039601Z",
     "iopub.status.busy": "2020-10-11T04:14:51.038867Z",
     "iopub.status.idle": "2020-10-11T04:14:51.116451Z",
     "shell.execute_reply": "2020-10-11T04:14:51.115491Z"
    },
    "papermill": {
     "duration": 0.162566,
     "end_time": "2020-10-11T04:14:51.116584",
     "exception": false,
     "start_time": "2020-10-11T04:14:50.954018",
     "status": "completed"
    },
    "tags": []
   },
   "outputs": [
    {
     "data": {
      "text/html": [
       "<div>\n",
       "<style scoped>\n",
       "    .dataframe tbody tr th:only-of-type {\n",
       "        vertical-align: middle;\n",
       "    }\n",
       "\n",
       "    .dataframe tbody tr th {\n",
       "        vertical-align: top;\n",
       "    }\n",
       "\n",
       "    .dataframe thead th {\n",
       "        text-align: right;\n",
       "    }\n",
       "</style>\n",
       "<table border=\"1\" class=\"dataframe\">\n",
       "  <thead>\n",
       "    <tr style=\"text-align: right;\">\n",
       "      <th></th>\n",
       "      <th>ID</th>\n",
       "      <th>shop_id</th>\n",
       "      <th>item_id</th>\n",
       "    </tr>\n",
       "  </thead>\n",
       "  <tbody>\n",
       "    <tr>\n",
       "      <th>0</th>\n",
       "      <td>0</td>\n",
       "      <td>5</td>\n",
       "      <td>5037</td>\n",
       "    </tr>\n",
       "    <tr>\n",
       "      <th>1</th>\n",
       "      <td>1</td>\n",
       "      <td>5</td>\n",
       "      <td>5320</td>\n",
       "    </tr>\n",
       "    <tr>\n",
       "      <th>2</th>\n",
       "      <td>2</td>\n",
       "      <td>5</td>\n",
       "      <td>5233</td>\n",
       "    </tr>\n",
       "    <tr>\n",
       "      <th>3</th>\n",
       "      <td>3</td>\n",
       "      <td>5</td>\n",
       "      <td>5232</td>\n",
       "    </tr>\n",
       "    <tr>\n",
       "      <th>4</th>\n",
       "      <td>4</td>\n",
       "      <td>5</td>\n",
       "      <td>5268</td>\n",
       "    </tr>\n",
       "  </tbody>\n",
       "</table>\n",
       "</div>"
      ],
      "text/plain": [
       "   ID  shop_id  item_id\n",
       "0   0        5     5037\n",
       "1   1        5     5320\n",
       "2   2        5     5233\n",
       "3   3        5     5232\n",
       "4   4        5     5268"
      ]
     },
     "execution_count": 5,
     "metadata": {},
     "output_type": "execute_result"
    }
   ],
   "source": [
    "test=pd.read_csv(\"/kaggle/input/competitive-data-science-predict-future-sales/test.csv\")\n",
    "test.head()"
   ]
  },
  {
   "cell_type": "code",
   "execution_count": 6,
   "metadata": {
    "execution": {
     "iopub.execute_input": "2020-10-11T04:14:51.291270Z",
     "iopub.status.busy": "2020-10-11T04:14:51.290283Z",
     "iopub.status.idle": "2020-10-11T04:14:51.294136Z",
     "shell.execute_reply": "2020-10-11T04:14:51.294808Z"
    },
    "papermill": {
     "duration": 0.097619,
     "end_time": "2020-10-11T04:14:51.294959",
     "exception": false,
     "start_time": "2020-10-11T04:14:51.197340",
     "status": "completed"
    },
    "tags": []
   },
   "outputs": [
    {
     "data": {
      "text/html": [
       "<div>\n",
       "<style scoped>\n",
       "    .dataframe tbody tr th:only-of-type {\n",
       "        vertical-align: middle;\n",
       "    }\n",
       "\n",
       "    .dataframe tbody tr th {\n",
       "        vertical-align: top;\n",
       "    }\n",
       "\n",
       "    .dataframe thead th {\n",
       "        text-align: right;\n",
       "    }\n",
       "</style>\n",
       "<table border=\"1\" class=\"dataframe\">\n",
       "  <thead>\n",
       "    <tr style=\"text-align: right;\">\n",
       "      <th></th>\n",
       "      <th>date</th>\n",
       "      <th>date_block_num</th>\n",
       "      <th>shop_id</th>\n",
       "      <th>item_id</th>\n",
       "      <th>item_price</th>\n",
       "      <th>item_cnt_day</th>\n",
       "    </tr>\n",
       "  </thead>\n",
       "  <tbody>\n",
       "    <tr>\n",
       "      <th>0</th>\n",
       "      <td>02.01.2013</td>\n",
       "      <td>0</td>\n",
       "      <td>59</td>\n",
       "      <td>22154</td>\n",
       "      <td>999.00</td>\n",
       "      <td>1.0</td>\n",
       "    </tr>\n",
       "    <tr>\n",
       "      <th>1</th>\n",
       "      <td>03.01.2013</td>\n",
       "      <td>0</td>\n",
       "      <td>25</td>\n",
       "      <td>2552</td>\n",
       "      <td>899.00</td>\n",
       "      <td>1.0</td>\n",
       "    </tr>\n",
       "    <tr>\n",
       "      <th>2</th>\n",
       "      <td>05.01.2013</td>\n",
       "      <td>0</td>\n",
       "      <td>25</td>\n",
       "      <td>2552</td>\n",
       "      <td>899.00</td>\n",
       "      <td>-1.0</td>\n",
       "    </tr>\n",
       "    <tr>\n",
       "      <th>3</th>\n",
       "      <td>06.01.2013</td>\n",
       "      <td>0</td>\n",
       "      <td>25</td>\n",
       "      <td>2554</td>\n",
       "      <td>1709.05</td>\n",
       "      <td>1.0</td>\n",
       "    </tr>\n",
       "    <tr>\n",
       "      <th>4</th>\n",
       "      <td>15.01.2013</td>\n",
       "      <td>0</td>\n",
       "      <td>25</td>\n",
       "      <td>2555</td>\n",
       "      <td>1099.00</td>\n",
       "      <td>1.0</td>\n",
       "    </tr>\n",
       "  </tbody>\n",
       "</table>\n",
       "</div>"
      ],
      "text/plain": [
       "         date  date_block_num  shop_id  item_id  item_price  item_cnt_day\n",
       "0  02.01.2013               0       59    22154      999.00           1.0\n",
       "1  03.01.2013               0       25     2552      899.00           1.0\n",
       "2  05.01.2013               0       25     2552      899.00          -1.0\n",
       "3  06.01.2013               0       25     2554     1709.05           1.0\n",
       "4  15.01.2013               0       25     2555     1099.00           1.0"
      ]
     },
     "execution_count": 6,
     "metadata": {},
     "output_type": "execute_result"
    }
   ],
   "source": [
    "train.head()"
   ]
  },
  {
   "cell_type": "code",
   "execution_count": 7,
   "metadata": {
    "execution": {
     "iopub.execute_input": "2020-10-11T04:14:51.465539Z",
     "iopub.status.busy": "2020-10-11T04:14:51.464631Z",
     "iopub.status.idle": "2020-10-11T04:14:51.543477Z",
     "shell.execute_reply": "2020-10-11T04:14:51.544482Z"
    },
    "papermill": {
     "duration": 0.166928,
     "end_time": "2020-10-11T04:14:51.544739",
     "exception": false,
     "start_time": "2020-10-11T04:14:51.377811",
     "status": "completed"
    },
    "tags": []
   },
   "outputs": [],
   "source": [
    "train.drop([\"date_block_num\"],axis=1,inplace=True)"
   ]
  },
  {
   "cell_type": "markdown",
   "metadata": {
    "papermill": {
     "duration": 0.119639,
     "end_time": "2020-10-11T04:14:51.795707",
     "exception": false,
     "start_time": "2020-10-11T04:14:51.676068",
     "status": "completed"
    },
    "tags": []
   },
   "source": [
    "date_block_num is not an important parameter for us,we are gonna drop that"
   ]
  },
  {
   "cell_type": "code",
   "execution_count": 8,
   "metadata": {
    "execution": {
     "iopub.execute_input": "2020-10-11T04:14:52.155155Z",
     "iopub.status.busy": "2020-10-11T04:14:52.154264Z",
     "iopub.status.idle": "2020-10-11T04:14:52.887526Z",
     "shell.execute_reply": "2020-10-11T04:14:52.888057Z"
    },
    "papermill": {
     "duration": 0.961525,
     "end_time": "2020-10-11T04:14:52.888229",
     "exception": false,
     "start_time": "2020-10-11T04:14:51.926704",
     "status": "completed"
    },
    "tags": []
   },
   "outputs": [],
   "source": [
    "train[\"date\"]=pd.to_datetime(train[\"date\"],infer_datetime_format=True)"
   ]
  },
  {
   "cell_type": "markdown",
   "metadata": {
    "papermill": {
     "duration": 0.0822,
     "end_time": "2020-10-11T04:14:53.049366",
     "exception": false,
     "start_time": "2020-10-11T04:14:52.967166",
     "status": "completed"
    },
    "tags": []
   },
   "source": [
    "To approach any time series problem our first aim is to convert Date from an object dtype to Datetime dtype"
   ]
  },
  {
   "cell_type": "code",
   "execution_count": 9,
   "metadata": {
    "execution": {
     "iopub.execute_input": "2020-10-11T04:14:53.215926Z",
     "iopub.status.busy": "2020-10-11T04:14:53.214512Z",
     "iopub.status.idle": "2020-10-11T04:14:53.262926Z",
     "shell.execute_reply": "2020-10-11T04:14:53.262333Z"
    },
    "papermill": {
     "duration": 0.134221,
     "end_time": "2020-10-11T04:14:53.263053",
     "exception": false,
     "start_time": "2020-10-11T04:14:53.128832",
     "status": "completed"
    },
    "tags": []
   },
   "outputs": [],
   "source": [
    "train=train.set_index(['date'])"
   ]
  },
  {
   "cell_type": "markdown",
   "metadata": {
    "papermill": {
     "duration": 0.084063,
     "end_time": "2020-10-11T04:14:53.427416",
     "exception": false,
     "start_time": "2020-10-11T04:14:53.343353",
     "status": "completed"
    },
    "tags": []
   },
   "source": [
    "Second Aim is to remove all the index and set Date column as our index variable"
   ]
  },
  {
   "cell_type": "code",
   "execution_count": 10,
   "metadata": {
    "execution": {
     "iopub.execute_input": "2020-10-11T04:14:53.628240Z",
     "iopub.status.busy": "2020-10-11T04:14:53.626280Z",
     "iopub.status.idle": "2020-10-11T04:14:53.629050Z",
     "shell.execute_reply": "2020-10-11T04:14:53.629575Z"
    },
    "papermill": {
     "duration": 0.12296,
     "end_time": "2020-10-11T04:14:53.629714",
     "exception": false,
     "start_time": "2020-10-11T04:14:53.506754",
     "status": "completed"
    },
    "tags": []
   },
   "outputs": [],
   "source": [
    "train=train[['item_cnt_day','shop_id', 'item_id', 'item_price']]"
   ]
  },
  {
   "cell_type": "markdown",
   "metadata": {
    "papermill": {
     "duration": 0.081278,
     "end_time": "2020-10-11T04:14:53.794695",
     "exception": false,
     "start_time": "2020-10-11T04:14:53.713417",
     "status": "completed"
    },
    "tags": []
   },
   "source": [
    "We r shuffling column(it gonna help us later)"
   ]
  },
  {
   "cell_type": "code",
   "execution_count": 11,
   "metadata": {
    "execution": {
     "iopub.execute_input": "2020-10-11T04:14:53.974616Z",
     "iopub.status.busy": "2020-10-11T04:14:53.973547Z",
     "iopub.status.idle": "2020-10-11T04:14:53.977725Z",
     "shell.execute_reply": "2020-10-11T04:14:53.978306Z"
    },
    "papermill": {
     "duration": 0.097727,
     "end_time": "2020-10-11T04:14:53.978447",
     "exception": false,
     "start_time": "2020-10-11T04:14:53.880720",
     "status": "completed"
    },
    "tags": []
   },
   "outputs": [
    {
     "data": {
      "text/html": [
       "<div>\n",
       "<style scoped>\n",
       "    .dataframe tbody tr th:only-of-type {\n",
       "        vertical-align: middle;\n",
       "    }\n",
       "\n",
       "    .dataframe tbody tr th {\n",
       "        vertical-align: top;\n",
       "    }\n",
       "\n",
       "    .dataframe thead th {\n",
       "        text-align: right;\n",
       "    }\n",
       "</style>\n",
       "<table border=\"1\" class=\"dataframe\">\n",
       "  <thead>\n",
       "    <tr style=\"text-align: right;\">\n",
       "      <th></th>\n",
       "      <th>item_cnt_day</th>\n",
       "      <th>shop_id</th>\n",
       "      <th>item_id</th>\n",
       "      <th>item_price</th>\n",
       "    </tr>\n",
       "    <tr>\n",
       "      <th>date</th>\n",
       "      <th></th>\n",
       "      <th></th>\n",
       "      <th></th>\n",
       "      <th></th>\n",
       "    </tr>\n",
       "  </thead>\n",
       "  <tbody>\n",
       "    <tr>\n",
       "      <th>2013-02-01</th>\n",
       "      <td>1.0</td>\n",
       "      <td>59</td>\n",
       "      <td>22154</td>\n",
       "      <td>999.00</td>\n",
       "    </tr>\n",
       "    <tr>\n",
       "      <th>2013-03-01</th>\n",
       "      <td>1.0</td>\n",
       "      <td>25</td>\n",
       "      <td>2552</td>\n",
       "      <td>899.00</td>\n",
       "    </tr>\n",
       "    <tr>\n",
       "      <th>2013-05-01</th>\n",
       "      <td>-1.0</td>\n",
       "      <td>25</td>\n",
       "      <td>2552</td>\n",
       "      <td>899.00</td>\n",
       "    </tr>\n",
       "    <tr>\n",
       "      <th>2013-06-01</th>\n",
       "      <td>1.0</td>\n",
       "      <td>25</td>\n",
       "      <td>2554</td>\n",
       "      <td>1709.05</td>\n",
       "    </tr>\n",
       "    <tr>\n",
       "      <th>2013-01-15</th>\n",
       "      <td>1.0</td>\n",
       "      <td>25</td>\n",
       "      <td>2555</td>\n",
       "      <td>1099.00</td>\n",
       "    </tr>\n",
       "  </tbody>\n",
       "</table>\n",
       "</div>"
      ],
      "text/plain": [
       "            item_cnt_day  shop_id  item_id  item_price\n",
       "date                                                  \n",
       "2013-02-01           1.0       59    22154      999.00\n",
       "2013-03-01           1.0       25     2552      899.00\n",
       "2013-05-01          -1.0       25     2552      899.00\n",
       "2013-06-01           1.0       25     2554     1709.05\n",
       "2013-01-15           1.0       25     2555     1099.00"
      ]
     },
     "execution_count": 11,
     "metadata": {},
     "output_type": "execute_result"
    }
   ],
   "source": [
    "train.head()"
   ]
  },
  {
   "cell_type": "code",
   "execution_count": 12,
   "metadata": {
    "execution": {
     "iopub.execute_input": "2020-10-11T04:14:54.158370Z",
     "iopub.status.busy": "2020-10-11T04:14:54.157655Z",
     "iopub.status.idle": "2020-10-11T04:14:54.165100Z",
     "shell.execute_reply": "2020-10-11T04:14:54.164555Z"
    },
    "papermill": {
     "duration": 0.094232,
     "end_time": "2020-10-11T04:14:54.165249",
     "exception": false,
     "start_time": "2020-10-11T04:14:54.071017",
     "status": "completed"
    },
    "tags": []
   },
   "outputs": [],
   "source": [
    "from matplotlib.pylab import rcParams\n",
    "rcParams['figure.figsize']=10,6"
   ]
  },
  {
   "cell_type": "code",
   "execution_count": 13,
   "metadata": {
    "execution": {
     "iopub.execute_input": "2020-10-11T04:14:54.336503Z",
     "iopub.status.busy": "2020-10-11T04:14:54.335721Z",
     "iopub.status.idle": "2020-10-11T04:14:59.231957Z",
     "shell.execute_reply": "2020-10-11T04:14:59.231307Z"
    },
    "papermill": {
     "duration": 4.982871,
     "end_time": "2020-10-11T04:14:59.232090",
     "exception": false,
     "start_time": "2020-10-11T04:14:54.249219",
     "status": "completed"
    },
    "tags": []
   },
   "outputs": [
    {
     "data": {
      "text/plain": [
       "Text(0.5, 0, 'item_cnt_day')"
      ]
     },
     "execution_count": 13,
     "metadata": {},
     "output_type": "execute_result"
    },
    {
     "data": {
      "image/png": "[encoded data removed]",
      "text/plain": [
       "<Figure size 720x432 with 1 Axes>"
      ]
     },
     "metadata": {
      "needs_background": "light"
     },
     "output_type": "display_data"
    }
   ],
   "source": [
    "train[\"item_cnt_day\"].plot()\n",
    "plt.xlabel(\"item_cnt_day\")"
   ]
  },
  {
   "cell_type": "code",
   "execution_count": 14,
   "metadata": {
    "execution": {
     "iopub.execute_input": "2020-10-11T04:14:59.426236Z",
     "iopub.status.busy": "2020-10-11T04:14:59.425376Z",
     "iopub.status.idle": "2020-10-11T04:14:59.428834Z",
     "shell.execute_reply": "2020-10-11T04:14:59.429381Z"
    },
    "papermill": {
     "duration": 0.095245,
     "end_time": "2020-10-11T04:14:59.429506",
     "exception": false,
     "start_time": "2020-10-11T04:14:59.334261",
     "status": "completed"
    },
    "tags": []
   },
   "outputs": [
    {
     "data": {
      "text/plain": [
       "Index(['item_cnt_day', 'shop_id', 'item_id', 'item_price'], dtype='object')"
      ]
     },
     "execution_count": 14,
     "metadata": {},
     "output_type": "execute_result"
    }
   ],
   "source": [
    "train.columns"
   ]
  },
  {
   "cell_type": "code",
   "execution_count": 15,
   "metadata": {
    "execution": {
     "iopub.execute_input": "2020-10-11T04:14:59.600377Z",
     "iopub.status.busy": "2020-10-11T04:14:59.599477Z",
     "iopub.status.idle": "2020-10-11T04:14:59.602047Z",
     "shell.execute_reply": "2020-10-11T04:14:59.602678Z"
    },
    "papermill": {
     "duration": 0.091344,
     "end_time": "2020-10-11T04:14:59.602805",
     "exception": false,
     "start_time": "2020-10-11T04:14:59.511461",
     "status": "completed"
    },
    "tags": []
   },
   "outputs": [],
   "source": [
    "tr=train"
   ]
  },
  {
   "cell_type": "code",
   "execution_count": 16,
   "metadata": {
    "execution": {
     "iopub.execute_input": "2020-10-11T04:14:59.781857Z",
     "iopub.status.busy": "2020-10-11T04:14:59.779948Z",
     "iopub.status.idle": "2020-10-11T04:14:59.848131Z",
     "shell.execute_reply": "2020-10-11T04:14:59.847601Z"
    },
    "papermill": {
     "duration": 0.158922,
     "end_time": "2020-10-11T04:14:59.848266",
     "exception": false,
     "start_time": "2020-10-11T04:14:59.689344",
     "status": "completed"
    },
    "tags": []
   },
   "outputs": [],
   "source": [
    "j=1\n",
    "a=['item_cnt_day', 'shop_id', 'item_id', 'item_price']\n",
    "for i in a:\n",
    "    tr[i+str(j)]=tr[i].shift(-1)\n",
    "    "
   ]
  },
  {
   "cell_type": "markdown",
   "metadata": {
    "papermill": {
     "duration": 0.083497,
     "end_time": "2020-10-11T04:15:00.014011",
     "exception": false,
     "start_time": "2020-10-11T04:14:59.930514",
     "status": "completed"
    },
    "tags": []
   },
   "source": [
    "This code is generating  4 exta column (suppose our column contain entry shown below as {old column} after going through above loop the newly column generated will contain the values starting fron 2nd index of old column"
   ]
  },
  {
   "cell_type": "markdown",
   "metadata": {
    "papermill": {
     "duration": 0.08531,
     "end_time": "2020-10-11T04:15:00.184892",
     "exception": false,
     "start_time": "2020-10-11T04:15:00.099582",
     "status": "completed"
    },
    "tags": []
   },
   "source": [
    "Old column -------------------New column"
   ]
  },
  {
   "cell_type": "markdown",
   "metadata": {
    "papermill": {
     "duration": 0.084961,
     "end_time": "2020-10-11T04:15:00.356635",
     "exception": false,
     "start_time": "2020-10-11T04:15:00.271674",
     "status": "completed"
    },
    "tags": []
   },
   "source": [
    "0--------------------------1"
   ]
  },
  {
   "cell_type": "markdown",
   "metadata": {
    "papermill": {
     "duration": 0.083163,
     "end_time": "2020-10-11T04:15:00.524229",
     "exception": false,
     "start_time": "2020-10-11T04:15:00.441066",
     "status": "completed"
    },
    "tags": []
   },
   "source": [
    "1---------------------------2"
   ]
  },
  {
   "cell_type": "markdown",
   "metadata": {
    "papermill": {
     "duration": 0.087782,
     "end_time": "2020-10-11T04:15:00.732044",
     "exception": false,
     "start_time": "2020-10-11T04:15:00.644262",
     "status": "completed"
    },
    "tags": []
   },
   "source": [
    "2---------------------------NaN"
   ]
  },
  {
   "cell_type": "code",
   "execution_count": 17,
   "metadata": {
    "execution": {
     "iopub.execute_input": "2020-10-11T04:15:00.927154Z",
     "iopub.status.busy": "2020-10-11T04:15:00.924688Z",
     "iopub.status.idle": "2020-10-11T04:15:00.931601Z",
     "shell.execute_reply": "2020-10-11T04:15:00.932215Z"
    },
    "papermill": {
     "duration": 0.115255,
     "end_time": "2020-10-11T04:15:00.932348",
     "exception": false,
     "start_time": "2020-10-11T04:15:00.817093",
     "status": "completed"
    },
    "tags": []
   },
   "outputs": [
    {
     "data": {
      "text/html": [
       "<div>\n",
       "<style scoped>\n",
       "    .dataframe tbody tr th:only-of-type {\n",
       "        vertical-align: middle;\n",
       "    }\n",
       "\n",
       "    .dataframe tbody tr th {\n",
       "        vertical-align: top;\n",
       "    }\n",
       "\n",
       "    .dataframe thead th {\n",
       "        text-align: right;\n",
       "    }\n",
       "</style>\n",
       "<table border=\"1\" class=\"dataframe\">\n",
       "  <thead>\n",
       "    <tr style=\"text-align: right;\">\n",
       "      <th></th>\n",
       "      <th>item_cnt_day</th>\n",
       "      <th>shop_id</th>\n",
       "      <th>item_id</th>\n",
       "      <th>item_price</th>\n",
       "      <th>item_cnt_day1</th>\n",
       "      <th>shop_id1</th>\n",
       "      <th>item_id1</th>\n",
       "      <th>item_price1</th>\n",
       "    </tr>\n",
       "    <tr>\n",
       "      <th>date</th>\n",
       "      <th></th>\n",
       "      <th></th>\n",
       "      <th></th>\n",
       "      <th></th>\n",
       "      <th></th>\n",
       "      <th></th>\n",
       "      <th></th>\n",
       "      <th></th>\n",
       "    </tr>\n",
       "  </thead>\n",
       "  <tbody>\n",
       "    <tr>\n",
       "      <th>2013-02-01</th>\n",
       "      <td>1.0</td>\n",
       "      <td>59</td>\n",
       "      <td>22154</td>\n",
       "      <td>999.00</td>\n",
       "      <td>1.0</td>\n",
       "      <td>25.0</td>\n",
       "      <td>2552.0</td>\n",
       "      <td>899.00</td>\n",
       "    </tr>\n",
       "    <tr>\n",
       "      <th>2013-03-01</th>\n",
       "      <td>1.0</td>\n",
       "      <td>25</td>\n",
       "      <td>2552</td>\n",
       "      <td>899.00</td>\n",
       "      <td>-1.0</td>\n",
       "      <td>25.0</td>\n",
       "      <td>2552.0</td>\n",
       "      <td>899.00</td>\n",
       "    </tr>\n",
       "    <tr>\n",
       "      <th>2013-05-01</th>\n",
       "      <td>-1.0</td>\n",
       "      <td>25</td>\n",
       "      <td>2552</td>\n",
       "      <td>899.00</td>\n",
       "      <td>1.0</td>\n",
       "      <td>25.0</td>\n",
       "      <td>2554.0</td>\n",
       "      <td>1709.05</td>\n",
       "    </tr>\n",
       "    <tr>\n",
       "      <th>2013-06-01</th>\n",
       "      <td>1.0</td>\n",
       "      <td>25</td>\n",
       "      <td>2554</td>\n",
       "      <td>1709.05</td>\n",
       "      <td>1.0</td>\n",
       "      <td>25.0</td>\n",
       "      <td>2555.0</td>\n",
       "      <td>1099.00</td>\n",
       "    </tr>\n",
       "    <tr>\n",
       "      <th>2013-01-15</th>\n",
       "      <td>1.0</td>\n",
       "      <td>25</td>\n",
       "      <td>2555</td>\n",
       "      <td>1099.00</td>\n",
       "      <td>1.0</td>\n",
       "      <td>25.0</td>\n",
       "      <td>2564.0</td>\n",
       "      <td>349.00</td>\n",
       "    </tr>\n",
       "    <tr>\n",
       "      <th>...</th>\n",
       "      <td>...</td>\n",
       "      <td>...</td>\n",
       "      <td>...</td>\n",
       "      <td>...</td>\n",
       "      <td>...</td>\n",
       "      <td>...</td>\n",
       "      <td>...</td>\n",
       "      <td>...</td>\n",
       "    </tr>\n",
       "    <tr>\n",
       "      <th>2015-10-10</th>\n",
       "      <td>1.0</td>\n",
       "      <td>25</td>\n",
       "      <td>7409</td>\n",
       "      <td>299.00</td>\n",
       "      <td>1.0</td>\n",
       "      <td>25.0</td>\n",
       "      <td>7460.0</td>\n",
       "      <td>299.00</td>\n",
       "    </tr>\n",
       "    <tr>\n",
       "      <th>2015-09-10</th>\n",
       "      <td>1.0</td>\n",
       "      <td>25</td>\n",
       "      <td>7460</td>\n",
       "      <td>299.00</td>\n",
       "      <td>1.0</td>\n",
       "      <td>25.0</td>\n",
       "      <td>7459.0</td>\n",
       "      <td>349.00</td>\n",
       "    </tr>\n",
       "    <tr>\n",
       "      <th>2015-10-14</th>\n",
       "      <td>1.0</td>\n",
       "      <td>25</td>\n",
       "      <td>7459</td>\n",
       "      <td>349.00</td>\n",
       "      <td>1.0</td>\n",
       "      <td>25.0</td>\n",
       "      <td>7440.0</td>\n",
       "      <td>299.00</td>\n",
       "    </tr>\n",
       "    <tr>\n",
       "      <th>2015-10-22</th>\n",
       "      <td>1.0</td>\n",
       "      <td>25</td>\n",
       "      <td>7440</td>\n",
       "      <td>299.00</td>\n",
       "      <td>1.0</td>\n",
       "      <td>25.0</td>\n",
       "      <td>7460.0</td>\n",
       "      <td>299.00</td>\n",
       "    </tr>\n",
       "    <tr>\n",
       "      <th>2015-03-10</th>\n",
       "      <td>1.0</td>\n",
       "      <td>25</td>\n",
       "      <td>7460</td>\n",
       "      <td>299.00</td>\n",
       "      <td>NaN</td>\n",
       "      <td>NaN</td>\n",
       "      <td>NaN</td>\n",
       "      <td>NaN</td>\n",
       "    </tr>\n",
       "  </tbody>\n",
       "</table>\n",
       "<p>2935849 rows × 8 columns</p>\n",
       "</div>"
      ],
      "text/plain": [
       "            item_cnt_day  shop_id  item_id  item_price  item_cnt_day1  \\\n",
       "date                                                                    \n",
       "2013-02-01           1.0       59    22154      999.00            1.0   \n",
       "2013-03-01           1.0       25     2552      899.00           -1.0   \n",
       "2013-05-01          -1.0       25     2552      899.00            1.0   \n",
       "2013-06-01           1.0       25     2554     1709.05            1.0   \n",
       "2013-01-15           1.0       25     2555     1099.00            1.0   \n",
       "...                  ...      ...      ...         ...            ...   \n",
       "2015-10-10           1.0       25     7409      299.00            1.0   \n",
       "2015-09-10           1.0       25     7460      299.00            1.0   \n",
       "2015-10-14           1.0       25     7459      349.00            1.0   \n",
       "2015-10-22           1.0       25     7440      299.00            1.0   \n",
       "2015-03-10           1.0       25     7460      299.00            NaN   \n",
       "\n",
       "            shop_id1  item_id1  item_price1  \n",
       "date                                         \n",
       "2013-02-01      25.0    2552.0       899.00  \n",
       "2013-03-01      25.0    2552.0       899.00  \n",
       "2013-05-01      25.0    2554.0      1709.05  \n",
       "2013-06-01      25.0    2555.0      1099.00  \n",
       "2013-01-15      25.0    2564.0       349.00  \n",
       "...              ...       ...          ...  \n",
       "2015-10-10      25.0    7460.0       299.00  \n",
       "2015-09-10      25.0    7459.0       349.00  \n",
       "2015-10-14      25.0    7440.0       299.00  \n",
       "2015-10-22      25.0    7460.0       299.00  \n",
       "2015-03-10       NaN       NaN          NaN  \n",
       "\n",
       "[2935849 rows x 8 columns]"
      ]
     },
     "execution_count": 17,
     "metadata": {},
     "output_type": "execute_result"
    }
   ],
   "source": [
    "tr"
   ]
  },
  {
   "cell_type": "code",
   "execution_count": 18,
   "metadata": {
    "execution": {
     "iopub.execute_input": "2020-10-11T04:15:01.121037Z",
     "iopub.status.busy": "2020-10-11T04:15:01.119710Z",
     "iopub.status.idle": "2020-10-11T04:15:01.237532Z",
     "shell.execute_reply": "2020-10-11T04:15:01.236955Z"
    },
    "papermill": {
     "duration": 0.209191,
     "end_time": "2020-10-11T04:15:01.237658",
     "exception": false,
     "start_time": "2020-10-11T04:15:01.028467",
     "status": "completed"
    },
    "tags": []
   },
   "outputs": [],
   "source": [
    "tr.drop([\"item_cnt_day\",\"shop_id1\",\"item_id1\",\"item_price1\"],axis=1,inplace=True)"
   ]
  },
  {
   "cell_type": "markdown",
   "metadata": {
    "papermill": {
     "duration": 0.086225,
     "end_time": "2020-10-11T04:15:01.410355",
     "exception": false,
     "start_time": "2020-10-11T04:15:01.324130",
     "status": "completed"
    },
    "tags": []
   },
   "source": [
    "We r gonna drop unneccasry column{item_cnt_day1 is gonna used as aour label}"
   ]
  },
  {
   "cell_type": "code",
   "execution_count": 19,
   "metadata": {
    "execution": {
     "iopub.execute_input": "2020-10-11T04:15:01.599756Z",
     "iopub.status.busy": "2020-10-11T04:15:01.598816Z",
     "iopub.status.idle": "2020-10-11T04:15:01.602432Z",
     "shell.execute_reply": "2020-10-11T04:15:01.602994Z"
    },
    "papermill": {
     "duration": 0.107058,
     "end_time": "2020-10-11T04:15:01.603128",
     "exception": false,
     "start_time": "2020-10-11T04:15:01.496070",
     "status": "completed"
    },
    "tags": []
   },
   "outputs": [
    {
     "data": {
      "text/html": [
       "<div>\n",
       "<style scoped>\n",
       "    .dataframe tbody tr th:only-of-type {\n",
       "        vertical-align: middle;\n",
       "    }\n",
       "\n",
       "    .dataframe tbody tr th {\n",
       "        vertical-align: top;\n",
       "    }\n",
       "\n",
       "    .dataframe thead th {\n",
       "        text-align: right;\n",
       "    }\n",
       "</style>\n",
       "<table border=\"1\" class=\"dataframe\">\n",
       "  <thead>\n",
       "    <tr style=\"text-align: right;\">\n",
       "      <th></th>\n",
       "      <th>shop_id</th>\n",
       "      <th>item_id</th>\n",
       "      <th>item_price</th>\n",
       "      <th>item_cnt_day1</th>\n",
       "    </tr>\n",
       "    <tr>\n",
       "      <th>date</th>\n",
       "      <th></th>\n",
       "      <th></th>\n",
       "      <th></th>\n",
       "      <th></th>\n",
       "    </tr>\n",
       "  </thead>\n",
       "  <tbody>\n",
       "    <tr>\n",
       "      <th>2013-02-01</th>\n",
       "      <td>59</td>\n",
       "      <td>22154</td>\n",
       "      <td>999.00</td>\n",
       "      <td>1.0</td>\n",
       "    </tr>\n",
       "    <tr>\n",
       "      <th>2013-03-01</th>\n",
       "      <td>25</td>\n",
       "      <td>2552</td>\n",
       "      <td>899.00</td>\n",
       "      <td>-1.0</td>\n",
       "    </tr>\n",
       "    <tr>\n",
       "      <th>2013-05-01</th>\n",
       "      <td>25</td>\n",
       "      <td>2552</td>\n",
       "      <td>899.00</td>\n",
       "      <td>1.0</td>\n",
       "    </tr>\n",
       "    <tr>\n",
       "      <th>2013-06-01</th>\n",
       "      <td>25</td>\n",
       "      <td>2554</td>\n",
       "      <td>1709.05</td>\n",
       "      <td>1.0</td>\n",
       "    </tr>\n",
       "    <tr>\n",
       "      <th>2013-01-15</th>\n",
       "      <td>25</td>\n",
       "      <td>2555</td>\n",
       "      <td>1099.00</td>\n",
       "      <td>1.0</td>\n",
       "    </tr>\n",
       "    <tr>\n",
       "      <th>...</th>\n",
       "      <td>...</td>\n",
       "      <td>...</td>\n",
       "      <td>...</td>\n",
       "      <td>...</td>\n",
       "    </tr>\n",
       "    <tr>\n",
       "      <th>2015-10-10</th>\n",
       "      <td>25</td>\n",
       "      <td>7409</td>\n",
       "      <td>299.00</td>\n",
       "      <td>1.0</td>\n",
       "    </tr>\n",
       "    <tr>\n",
       "      <th>2015-09-10</th>\n",
       "      <td>25</td>\n",
       "      <td>7460</td>\n",
       "      <td>299.00</td>\n",
       "      <td>1.0</td>\n",
       "    </tr>\n",
       "    <tr>\n",
       "      <th>2015-10-14</th>\n",
       "      <td>25</td>\n",
       "      <td>7459</td>\n",
       "      <td>349.00</td>\n",
       "      <td>1.0</td>\n",
       "    </tr>\n",
       "    <tr>\n",
       "      <th>2015-10-22</th>\n",
       "      <td>25</td>\n",
       "      <td>7440</td>\n",
       "      <td>299.00</td>\n",
       "      <td>1.0</td>\n",
       "    </tr>\n",
       "    <tr>\n",
       "      <th>2015-03-10</th>\n",
       "      <td>25</td>\n",
       "      <td>7460</td>\n",
       "      <td>299.00</td>\n",
       "      <td>NaN</td>\n",
       "    </tr>\n",
       "  </tbody>\n",
       "</table>\n",
       "<p>2935849 rows × 4 columns</p>\n",
       "</div>"
      ],
      "text/plain": [
       "            shop_id  item_id  item_price  item_cnt_day1\n",
       "date                                                   \n",
       "2013-02-01       59    22154      999.00            1.0\n",
       "2013-03-01       25     2552      899.00           -1.0\n",
       "2013-05-01       25     2552      899.00            1.0\n",
       "2013-06-01       25     2554     1709.05            1.0\n",
       "2013-01-15       25     2555     1099.00            1.0\n",
       "...             ...      ...         ...            ...\n",
       "2015-10-10       25     7409      299.00            1.0\n",
       "2015-09-10       25     7460      299.00            1.0\n",
       "2015-10-14       25     7459      349.00            1.0\n",
       "2015-10-22       25     7440      299.00            1.0\n",
       "2015-03-10       25     7460      299.00            NaN\n",
       "\n",
       "[2935849 rows x 4 columns]"
      ]
     },
     "execution_count": 19,
     "metadata": {},
     "output_type": "execute_result"
    }
   ],
   "source": [
    "tr"
   ]
  },
  {
   "cell_type": "code",
   "execution_count": 20,
   "metadata": {
    "execution": {
     "iopub.execute_input": "2020-10-11T04:15:01.801769Z",
     "iopub.status.busy": "2020-10-11T04:15:01.800656Z",
     "iopub.status.idle": "2020-10-11T04:15:01.819116Z",
     "shell.execute_reply": "2020-10-11T04:15:01.818523Z"
    },
    "papermill": {
     "duration": 0.120381,
     "end_time": "2020-10-11T04:15:01.819248",
     "exception": false,
     "start_time": "2020-10-11T04:15:01.698867",
     "status": "completed"
    },
    "tags": []
   },
   "outputs": [],
   "source": [
    "tr.fillna(method='ffill',inplace=True)"
   ]
  },
  {
   "cell_type": "code",
   "execution_count": 21,
   "metadata": {
    "execution": {
     "iopub.execute_input": "2020-10-11T04:15:02.006518Z",
     "iopub.status.busy": "2020-10-11T04:15:02.005538Z",
     "iopub.status.idle": "2020-10-11T04:15:02.010346Z",
     "shell.execute_reply": "2020-10-11T04:15:02.009789Z"
    },
    "papermill": {
     "duration": 0.106335,
     "end_time": "2020-10-11T04:15:02.010463",
     "exception": false,
     "start_time": "2020-10-11T04:15:01.904128",
     "status": "completed"
    },
    "tags": []
   },
   "outputs": [
    {
     "data": {
      "text/html": [
       "<div>\n",
       "<style scoped>\n",
       "    .dataframe tbody tr th:only-of-type {\n",
       "        vertical-align: middle;\n",
       "    }\n",
       "\n",
       "    .dataframe tbody tr th {\n",
       "        vertical-align: top;\n",
       "    }\n",
       "\n",
       "    .dataframe thead th {\n",
       "        text-align: right;\n",
       "    }\n",
       "</style>\n",
       "<table border=\"1\" class=\"dataframe\">\n",
       "  <thead>\n",
       "    <tr style=\"text-align: right;\">\n",
       "      <th></th>\n",
       "      <th>shop_id</th>\n",
       "      <th>item_id</th>\n",
       "      <th>item_price</th>\n",
       "      <th>item_cnt_day1</th>\n",
       "    </tr>\n",
       "    <tr>\n",
       "      <th>date</th>\n",
       "      <th></th>\n",
       "      <th></th>\n",
       "      <th></th>\n",
       "      <th></th>\n",
       "    </tr>\n",
       "  </thead>\n",
       "  <tbody>\n",
       "    <tr>\n",
       "      <th>2013-02-01</th>\n",
       "      <td>59</td>\n",
       "      <td>22154</td>\n",
       "      <td>999.00</td>\n",
       "      <td>1.0</td>\n",
       "    </tr>\n",
       "    <tr>\n",
       "      <th>2013-03-01</th>\n",
       "      <td>25</td>\n",
       "      <td>2552</td>\n",
       "      <td>899.00</td>\n",
       "      <td>-1.0</td>\n",
       "    </tr>\n",
       "    <tr>\n",
       "      <th>2013-05-01</th>\n",
       "      <td>25</td>\n",
       "      <td>2552</td>\n",
       "      <td>899.00</td>\n",
       "      <td>1.0</td>\n",
       "    </tr>\n",
       "    <tr>\n",
       "      <th>2013-06-01</th>\n",
       "      <td>25</td>\n",
       "      <td>2554</td>\n",
       "      <td>1709.05</td>\n",
       "      <td>1.0</td>\n",
       "    </tr>\n",
       "    <tr>\n",
       "      <th>2013-01-15</th>\n",
       "      <td>25</td>\n",
       "      <td>2555</td>\n",
       "      <td>1099.00</td>\n",
       "      <td>1.0</td>\n",
       "    </tr>\n",
       "    <tr>\n",
       "      <th>...</th>\n",
       "      <td>...</td>\n",
       "      <td>...</td>\n",
       "      <td>...</td>\n",
       "      <td>...</td>\n",
       "    </tr>\n",
       "    <tr>\n",
       "      <th>2015-10-10</th>\n",
       "      <td>25</td>\n",
       "      <td>7409</td>\n",
       "      <td>299.00</td>\n",
       "      <td>1.0</td>\n",
       "    </tr>\n",
       "    <tr>\n",
       "      <th>2015-09-10</th>\n",
       "      <td>25</td>\n",
       "      <td>7460</td>\n",
       "      <td>299.00</td>\n",
       "      <td>1.0</td>\n",
       "    </tr>\n",
       "    <tr>\n",
       "      <th>2015-10-14</th>\n",
       "      <td>25</td>\n",
       "      <td>7459</td>\n",
       "      <td>349.00</td>\n",
       "      <td>1.0</td>\n",
       "    </tr>\n",
       "    <tr>\n",
       "      <th>2015-10-22</th>\n",
       "      <td>25</td>\n",
       "      <td>7440</td>\n",
       "      <td>299.00</td>\n",
       "      <td>1.0</td>\n",
       "    </tr>\n",
       "    <tr>\n",
       "      <th>2015-03-10</th>\n",
       "      <td>25</td>\n",
       "      <td>7460</td>\n",
       "      <td>299.00</td>\n",
       "      <td>1.0</td>\n",
       "    </tr>\n",
       "  </tbody>\n",
       "</table>\n",
       "<p>2935849 rows × 4 columns</p>\n",
       "</div>"
      ],
      "text/plain": [
       "            shop_id  item_id  item_price  item_cnt_day1\n",
       "date                                                   \n",
       "2013-02-01       59    22154      999.00            1.0\n",
       "2013-03-01       25     2552      899.00           -1.0\n",
       "2013-05-01       25     2552      899.00            1.0\n",
       "2013-06-01       25     2554     1709.05            1.0\n",
       "2013-01-15       25     2555     1099.00            1.0\n",
       "...             ...      ...         ...            ...\n",
       "2015-10-10       25     7409      299.00            1.0\n",
       "2015-09-10       25     7460      299.00            1.0\n",
       "2015-10-14       25     7459      349.00            1.0\n",
       "2015-10-22       25     7440      299.00            1.0\n",
       "2015-03-10       25     7460      299.00            1.0\n",
       "\n",
       "[2935849 rows x 4 columns]"
      ]
     },
     "execution_count": 21,
     "metadata": {},
     "output_type": "execute_result"
    }
   ],
   "source": [
    "tr"
   ]
  },
  {
   "cell_type": "markdown",
   "metadata": {
    "papermill": {
     "duration": 0.087755,
     "end_time": "2020-10-11T04:15:02.194809",
     "exception": false,
     "start_time": "2020-10-11T04:15:02.107054",
     "status": "completed"
    },
    "tags": []
   },
   "source": [
    "Now we r gonna separate data into label and features and then apply MinMaxScaler"
   ]
  },
  {
   "cell_type": "code",
   "execution_count": 22,
   "metadata": {
    "execution": {
     "iopub.execute_input": "2020-10-11T04:15:02.376001Z",
     "iopub.status.busy": "2020-10-11T04:15:02.375039Z",
     "iopub.status.idle": "2020-10-11T04:15:02.378042Z",
     "shell.execute_reply": "2020-10-11T04:15:02.377548Z"
    },
    "papermill": {
     "duration": 0.095419,
     "end_time": "2020-10-11T04:15:02.378147",
     "exception": false,
     "start_time": "2020-10-11T04:15:02.282728",
     "status": "completed"
    },
    "tags": []
   },
   "outputs": [],
   "source": [
    "yy=tr[\"item_cnt_day1\"].values"
   ]
  },
  {
   "cell_type": "code",
   "execution_count": 23,
   "metadata": {
    "execution": {
     "iopub.execute_input": "2020-10-11T04:15:02.573916Z",
     "iopub.status.busy": "2020-10-11T04:15:02.572965Z",
     "iopub.status.idle": "2020-10-11T04:15:02.578866Z",
     "shell.execute_reply": "2020-10-11T04:15:02.580669Z"
    },
    "papermill": {
     "duration": 0.117849,
     "end_time": "2020-10-11T04:15:02.580881",
     "exception": false,
     "start_time": "2020-10-11T04:15:02.463032",
     "status": "completed"
    },
    "tags": []
   },
   "outputs": [],
   "source": [
    "yy = yy.reshape((len(yy), 1))"
   ]
  },
  {
   "cell_type": "code",
   "execution_count": 24,
   "metadata": {
    "execution": {
     "iopub.execute_input": "2020-10-11T04:15:02.896658Z",
     "iopub.status.busy": "2020-10-11T04:15:02.895668Z",
     "iopub.status.idle": "2020-10-11T04:15:02.923501Z",
     "shell.execute_reply": "2020-10-11T04:15:02.924876Z"
    },
    "papermill": {
     "duration": 0.180984,
     "end_time": "2020-10-11T04:15:02.925080",
     "exception": false,
     "start_time": "2020-10-11T04:15:02.744096",
     "status": "completed"
    },
    "tags": []
   },
   "outputs": [],
   "source": [
    "tr.drop([\"item_cnt_day1\"],axis=1,inplace=True)"
   ]
  },
  {
   "cell_type": "code",
   "execution_count": 25,
   "metadata": {
    "execution": {
     "iopub.execute_input": "2020-10-11T04:15:03.241122Z",
     "iopub.status.busy": "2020-10-11T04:15:03.239741Z",
     "iopub.status.idle": "2020-10-11T04:15:04.300316Z",
     "shell.execute_reply": "2020-10-11T04:15:04.299688Z"
    },
    "papermill": {
     "duration": 1.230532,
     "end_time": "2020-10-11T04:15:04.300476",
     "exception": false,
     "start_time": "2020-10-11T04:15:03.069944",
     "status": "completed"
    },
    "tags": []
   },
   "outputs": [],
   "source": [
    "from sklearn.preprocessing import MinMaxScaler\n",
    "scale=MinMaxScaler()\n",
    "scale=scale.fit(tr)\n",
    "w=scale.transform(tr)"
   ]
  },
  {
   "cell_type": "code",
   "execution_count": 26,
   "metadata": {
    "execution": {
     "iopub.execute_input": "2020-10-11T04:15:04.492138Z",
     "iopub.status.busy": "2020-10-11T04:15:04.491048Z",
     "iopub.status.idle": "2020-10-11T04:15:04.514301Z",
     "shell.execute_reply": "2020-10-11T04:15:04.513724Z"
    },
    "papermill": {
     "duration": 0.120977,
     "end_time": "2020-10-11T04:15:04.514422",
     "exception": false,
     "start_time": "2020-10-11T04:15:04.393445",
     "status": "completed"
    },
    "tags": []
   },
   "outputs": [],
   "source": [
    "scaler=scale.fit(yy)\n",
    "qq=scaler.transform(yy)"
   ]
  },
  {
   "cell_type": "markdown",
   "metadata": {
    "papermill": {
     "duration": 0.0919,
     "end_time": "2020-10-11T04:15:04.696077",
     "exception": false,
     "start_time": "2020-10-11T04:15:04.604177",
     "status": "completed"
    },
    "tags": []
   },
   "source": [
    "Remember above scaler we gonaa used later"
   ]
  },
  {
   "cell_type": "code",
   "execution_count": 27,
   "metadata": {
    "execution": {
     "iopub.execute_input": "2020-10-11T04:15:04.887473Z",
     "iopub.status.busy": "2020-10-11T04:15:04.886260Z",
     "iopub.status.idle": "2020-10-11T04:15:04.892163Z",
     "shell.execute_reply": "2020-10-11T04:15:04.891609Z"
    },
    "papermill": {
     "duration": 0.103179,
     "end_time": "2020-10-11T04:15:04.892316",
     "exception": false,
     "start_time": "2020-10-11T04:15:04.789137",
     "status": "completed"
    },
    "tags": []
   },
   "outputs": [
    {
     "data": {
      "text/plain": [
       "array([[0.01049749],\n",
       "       [0.00958466],\n",
       "       [0.01049749],\n",
       "       ...,\n",
       "       [0.01049749],\n",
       "       [0.01049749],\n",
       "       [0.01049749]])"
      ]
     },
     "execution_count": 27,
     "metadata": {},
     "output_type": "execute_result"
    }
   ],
   "source": [
    "qq"
   ]
  },
  {
   "cell_type": "code",
   "execution_count": 28,
   "metadata": {
    "execution": {
     "iopub.execute_input": "2020-10-11T04:15:05.098935Z",
     "iopub.status.busy": "2020-10-11T04:15:05.097258Z",
     "iopub.status.idle": "2020-10-11T04:15:05.099595Z",
     "shell.execute_reply": "2020-10-11T04:15:05.100088Z"
    },
    "papermill": {
     "duration": 0.105765,
     "end_time": "2020-10-11T04:15:05.100232",
     "exception": false,
     "start_time": "2020-10-11T04:15:04.994467",
     "status": "completed"
    },
    "tags": []
   },
   "outputs": [],
   "source": [
    "www=w"
   ]
  },
  {
   "cell_type": "markdown",
   "metadata": {
    "papermill": {
     "duration": 0.09134,
     "end_time": "2020-10-11T04:15:05.310882",
     "exception": false,
     "start_time": "2020-10-11T04:15:05.219542",
     "status": "completed"
    },
    "tags": []
   },
   "source": [
    "# LSTM Model"
   ]
  },
  {
   "cell_type": "code",
   "execution_count": 29,
   "metadata": {
    "execution": {
     "iopub.execute_input": "2020-10-11T04:15:05.500858Z",
     "iopub.status.busy": "2020-10-11T04:15:05.500151Z",
     "iopub.status.idle": "2020-10-11T04:15:05.504749Z",
     "shell.execute_reply": "2020-10-11T04:15:05.504026Z"
    },
    "papermill": {
     "duration": 0.10041,
     "end_time": "2020-10-11T04:15:05.504905",
     "exception": false,
     "start_time": "2020-10-11T04:15:05.404495",
     "status": "completed"
    },
    "tags": []
   },
   "outputs": [],
   "source": [
    "xtrain,xtest,ytrain,ytest=www[:2348680,0:3],www[2348680:,0:3],qq[:2348680,-1],qq[2348680:,-1]"
   ]
  },
  {
   "cell_type": "markdown",
   "metadata": {
    "papermill": {
     "duration": 0.09163,
     "end_time": "2020-10-11T04:15:05.690286",
     "exception": false,
     "start_time": "2020-10-11T04:15:05.598656",
     "status": "completed"
    },
    "tags": []
   },
   "source": [
    "We cant use Train/Test Split in time series problem because all the label have the value dependent on prev value"
   ]
  },
  {
   "cell_type": "markdown",
   "metadata": {
    "papermill": {
     "duration": 0.091087,
     "end_time": "2020-10-11T04:15:05.872858",
     "exception": false,
     "start_time": "2020-10-11T04:15:05.781771",
     "status": "completed"
    },
    "tags": []
   },
   "source": [
    "    For Eg.-suppose we have to separate this data into train and test{1,2,3,4,5,6},,if we apply train test then our train data can contain{2,6,1,4} and test {5,3}"
   ]
  },
  {
   "cell_type": "markdown",
   "metadata": {
    "papermill": {
     "duration": 0.092182,
     "end_time": "2020-10-11T04:15:06.056990",
     "exception": false,
     "start_time": "2020-10-11T04:15:05.964808",
     "status": "completed"
    },
    "tags": []
   },
   "source": [
    "But a time Series problem requires data to be in form train={1,2,3,4} test={5,6"
   ]
  },
  {
   "cell_type": "code",
   "execution_count": 30,
   "metadata": {
    "execution": {
     "iopub.execute_input": "2020-10-11T04:15:06.253520Z",
     "iopub.status.busy": "2020-10-11T04:15:06.252129Z",
     "iopub.status.idle": "2020-10-11T04:15:06.255783Z",
     "shell.execute_reply": "2020-10-11T04:15:06.256325Z"
    },
    "papermill": {
     "duration": 0.103182,
     "end_time": "2020-10-11T04:15:06.256463",
     "exception": false,
     "start_time": "2020-10-11T04:15:06.153281",
     "status": "completed"
    },
    "tags": []
   },
   "outputs": [
    {
     "data": {
      "text/plain": [
       "array([[0.3559322 , 0.3812531 , 0.00971164],\n",
       "       [0.3559322 , 0.3812531 , 0.00971164],\n",
       "       [0.3559322 , 0.3812531 , 0.00971164],\n",
       "       ...,\n",
       "       [0.42372881, 0.33646082, 0.00113643],\n",
       "       [0.42372881, 0.33560377, 0.00097409],\n",
       "       [0.42372881, 0.33650593, 0.00097409]])"
      ]
     },
     "execution_count": 30,
     "metadata": {},
     "output_type": "execute_result"
    }
   ],
   "source": [
    "xtest"
   ]
  },
  {
   "cell_type": "code",
   "execution_count": 31,
   "metadata": {
    "execution": {
     "iopub.execute_input": "2020-10-11T04:15:06.445573Z",
     "iopub.status.busy": "2020-10-11T04:15:06.444553Z",
     "iopub.status.idle": "2020-10-11T04:15:06.452166Z",
     "shell.execute_reply": "2020-10-11T04:15:06.451617Z"
    },
    "papermill": {
     "duration": 0.103335,
     "end_time": "2020-10-11T04:15:06.452315",
     "exception": false,
     "start_time": "2020-10-11T04:15:06.348980",
     "status": "completed"
    },
    "tags": []
   },
   "outputs": [
    {
     "data": {
      "text/plain": [
       "array([0.01049749, 0.01049749, 0.01049749, ..., 0.01049749, 0.01049749,\n",
       "       0.01049749])"
      ]
     },
     "execution_count": 31,
     "metadata": {},
     "output_type": "execute_result"
    }
   ],
   "source": [
    "ytest"
   ]
  },
  {
   "cell_type": "code",
   "execution_count": 32,
   "metadata": {
    "execution": {
     "iopub.execute_input": "2020-10-11T04:15:06.671811Z",
     "iopub.status.busy": "2020-10-11T04:15:06.669769Z",
     "iopub.status.idle": "2020-10-11T04:15:06.672507Z",
     "shell.execute_reply": "2020-10-11T04:15:06.673127Z"
    },
    "papermill": {
     "duration": 0.118213,
     "end_time": "2020-10-11T04:15:06.673277",
     "exception": false,
     "start_time": "2020-10-11T04:15:06.555064",
     "status": "completed"
    },
    "tags": []
   },
   "outputs": [],
   "source": [
    "xtrain = xtrain.reshape(xtrain.shape[0], xtrain.shape[1], 1)\n",
    "xtest = xtest.reshape(xtest.shape[0], xtest.shape[1], 1)"
   ]
  },
  {
   "cell_type": "markdown",
   "metadata": {
    "papermill": {
     "duration": 0.092517,
     "end_time": "2020-10-11T04:15:06.861801",
     "exception": false,
     "start_time": "2020-10-11T04:15:06.769284",
     "status": "completed"
    },
    "tags": []
   },
   "source": [
    "LSTM model requires 3D data as input so we our converting train features and test features in 3D"
   ]
  },
  {
   "cell_type": "code",
   "execution_count": 33,
   "metadata": {
    "execution": {
     "iopub.execute_input": "2020-10-11T04:15:07.051396Z",
     "iopub.status.busy": "2020-10-11T04:15:07.050594Z",
     "iopub.status.idle": "2020-10-11T04:15:12.590111Z",
     "shell.execute_reply": "2020-10-11T04:15:12.588723Z"
    },
    "papermill": {
     "duration": 5.638192,
     "end_time": "2020-10-11T04:15:12.590286",
     "exception": false,
     "start_time": "2020-10-11T04:15:06.952094",
     "status": "completed"
    },
    "tags": []
   },
   "outputs": [],
   "source": [
    "from tensorflow.keras.models import Sequential\n",
    "from tensorflow.keras.layers import Dense\n",
    "from tensorflow.keras.layers import LSTM,Dropout\n",
    "from keras.layers import Bidirectional"
   ]
  },
  {
   "cell_type": "code",
   "execution_count": 34,
   "metadata": {
    "execution": {
     "iopub.execute_input": "2020-10-11T04:15:12.789330Z",
     "iopub.status.busy": "2020-10-11T04:15:12.788617Z",
     "iopub.status.idle": "2020-10-11T04:15:16.653498Z",
     "shell.execute_reply": "2020-10-11T04:15:16.652874Z"
    },
    "papermill": {
     "duration": 3.964782,
     "end_time": "2020-10-11T04:15:16.653612",
     "exception": false,
     "start_time": "2020-10-11T04:15:12.688830",
     "status": "completed"
    },
    "tags": []
   },
   "outputs": [],
   "source": [
    "model=Sequential()\n",
    "model.add(LSTM(100,activation=\"relu\",return_sequences=True,input_shape=(xtrain.shape[1],xtrain.shape[2])))\n",
    "model.add(Dropout(0.1))\n",
    "model.add(LSTM(100,activation=\"relu\",return_sequences=True))\n",
    "model.add(Dropout(0.1))\n",
    "model.add(LSTM(100,activation=\"relu\",return_sequences=True))\n",
    "model.add(Dropout(0.1))\n",
    "model.add(LSTM(100,activation=\"relu\",return_sequences=True))\n",
    "model.add(Dropout(0.1))\n",
    "model.add(LSTM(50,activation=\"relu\"))\n",
    "model.add(Dense(1))\n",
    "model.compile(optimizer='adam', loss='mse')"
   ]
  },
  {
   "cell_type": "code",
   "execution_count": 35,
   "metadata": {
    "execution": {
     "iopub.execute_input": "2020-10-11T04:15:16.839591Z",
     "iopub.status.busy": "2020-10-11T04:15:16.838911Z",
     "iopub.status.idle": "2020-10-11T04:22:47.574268Z",
     "shell.execute_reply": "2020-10-11T04:22:47.574709Z"
    },
    "papermill": {
     "duration": 450.832033,
     "end_time": "2020-10-11T04:22:47.574860",
     "exception": false,
     "start_time": "2020-10-11T04:15:16.742827",
     "status": "completed"
    },
    "tags": []
   },
   "outputs": [
    {
     "name": "stdout",
     "output_type": "stream",
     "text": [
      "Epoch 1/50\n",
      "79/79 - 9s - loss: 4.6921e-06 - val_loss: 3.5898e-06\n",
      "Epoch 2/50\n",
      "79/79 - 9s - loss: 9.0228e-07 - val_loss: 3.5843e-06\n",
      "Epoch 3/50\n",
      "79/79 - 9s - loss: 8.9893e-07 - val_loss: 3.5842e-06\n",
      "Epoch 4/50\n",
      "79/79 - 9s - loss: 8.9682e-07 - val_loss: 3.5839e-06\n",
      "Epoch 5/50\n",
      "79/79 - 9s - loss: 8.9495e-07 - val_loss: 3.5839e-06\n",
      "Epoch 6/50\n",
      "79/79 - 10s - loss: 8.9381e-07 - val_loss: 3.5838e-06\n",
      "Epoch 7/50\n",
      "79/79 - 9s - loss: 8.9283e-07 - val_loss: 3.5838e-06\n",
      "Epoch 8/50\n",
      "79/79 - 9s - loss: 8.9207e-07 - val_loss: 3.5838e-06\n",
      "Epoch 9/50\n",
      "79/79 - 9s - loss: 8.9172e-07 - val_loss: 3.5837e-06\n",
      "Epoch 10/50\n",
      "79/79 - 9s - loss: 8.9133e-07 - val_loss: 3.5852e-06\n",
      "Epoch 11/50\n",
      "79/79 - 9s - loss: 8.9095e-07 - val_loss: 3.5836e-06\n",
      "Epoch 12/50\n",
      "79/79 - 9s - loss: 8.9077e-07 - val_loss: 3.5836e-06\n",
      "Epoch 13/50\n",
      "79/79 - 9s - loss: 8.9053e-07 - val_loss: 3.5835e-06\n",
      "Epoch 14/50\n",
      "79/79 - 9s - loss: 8.9043e-07 - val_loss: 3.5843e-06\n",
      "Epoch 15/50\n",
      "79/79 - 9s - loss: 8.9039e-07 - val_loss: 3.5835e-06\n",
      "Epoch 16/50\n",
      "79/79 - 9s - loss: 8.9025e-07 - val_loss: 3.5840e-06\n",
      "Epoch 17/50\n",
      "79/79 - 9s - loss: 8.9024e-07 - val_loss: 3.5839e-06\n",
      "Epoch 18/50\n",
      "79/79 - 9s - loss: 8.9013e-07 - val_loss: 3.5838e-06\n",
      "Epoch 19/50\n",
      "79/79 - 9s - loss: 8.9042e-07 - val_loss: 3.5835e-06\n",
      "Epoch 20/50\n",
      "79/79 - 9s - loss: 8.9026e-07 - val_loss: 3.5836e-06\n",
      "Epoch 21/50\n",
      "79/79 - 9s - loss: 8.9028e-07 - val_loss: 3.5839e-06\n",
      "Epoch 22/50\n",
      "79/79 - 9s - loss: 8.9020e-07 - val_loss: 3.5836e-06\n",
      "Epoch 23/50\n",
      "79/79 - 9s - loss: 8.9028e-07 - val_loss: 3.5834e-06\n",
      "Epoch 24/50\n",
      "79/79 - 9s - loss: 8.9017e-07 - val_loss: 3.5843e-06\n",
      "Epoch 25/50\n",
      "79/79 - 9s - loss: 8.9043e-07 - val_loss: 3.5842e-06\n",
      "Epoch 26/50\n",
      "79/79 - 9s - loss: 8.9022e-07 - val_loss: 3.5834e-06\n",
      "Epoch 27/50\n",
      "79/79 - 9s - loss: 8.9010e-07 - val_loss: 3.5835e-06\n",
      "Epoch 28/50\n",
      "79/79 - 9s - loss: 8.9062e-07 - val_loss: 3.5835e-06\n",
      "Epoch 29/50\n",
      "79/79 - 9s - loss: 8.9056e-07 - val_loss: 3.5839e-06\n",
      "Epoch 30/50\n",
      "79/79 - 9s - loss: 8.9033e-07 - val_loss: 3.5838e-06\n",
      "Epoch 31/50\n",
      "79/79 - 9s - loss: 8.9037e-07 - val_loss: 3.5841e-06\n",
      "Epoch 32/50\n",
      "79/79 - 9s - loss: 8.9056e-07 - val_loss: 3.5838e-06\n",
      "Epoch 33/50\n",
      "79/79 - 9s - loss: 8.9035e-07 - val_loss: 3.5843e-06\n",
      "Epoch 34/50\n",
      "79/79 - 9s - loss: 8.9091e-07 - val_loss: 3.5836e-06\n",
      "Epoch 35/50\n",
      "79/79 - 9s - loss: 8.9058e-07 - val_loss: 3.5897e-06\n",
      "Epoch 36/50\n",
      "79/79 - 9s - loss: 8.9051e-07 - val_loss: 3.5845e-06\n",
      "Epoch 37/50\n",
      "79/79 - 9s - loss: 8.9066e-07 - val_loss: 3.5834e-06\n",
      "Epoch 38/50\n",
      "79/79 - 9s - loss: 8.9137e-07 - val_loss: 3.5849e-06\n",
      "Epoch 39/50\n",
      "79/79 - 9s - loss: 8.9123e-07 - val_loss: 3.5834e-06\n",
      "Epoch 40/50\n",
      "79/79 - 9s - loss: 8.9065e-07 - val_loss: 3.5834e-06\n",
      "Epoch 41/50\n",
      "79/79 - 9s - loss: 8.9042e-07 - val_loss: 3.5860e-06\n",
      "Epoch 42/50\n",
      "79/79 - 9s - loss: 8.9373e-07 - val_loss: 3.5841e-06\n",
      "Epoch 43/50\n",
      "79/79 - 9s - loss: 8.9083e-07 - val_loss: 3.5897e-06\n",
      "Epoch 44/50\n",
      "79/79 - 9s - loss: 8.9157e-07 - val_loss: 3.5836e-06\n",
      "Epoch 45/50\n",
      "79/79 - 9s - loss: 8.9344e-07 - val_loss: 3.5834e-06\n",
      "Epoch 46/50\n",
      "79/79 - 9s - loss: 8.9161e-07 - val_loss: 3.5843e-06\n",
      "Epoch 47/50\n",
      "79/79 - 9s - loss: 8.9569e-07 - val_loss: 3.5925e-06\n",
      "Epoch 48/50\n",
      "79/79 - 9s - loss: 8.9521e-07 - val_loss: 3.6012e-06\n",
      "Epoch 49/50\n",
      "79/79 - 9s - loss: 8.9904e-07 - val_loss: 3.5867e-06\n",
      "Epoch 50/50\n",
      "79/79 - 9s - loss: 8.9842e-07 - val_loss: 3.5842e-06\n"
     ]
    },
    {
     "data": {
      "text/plain": [
       "<tensorflow.python.keras.callbacks.History at 0x7f2f6815d550>"
      ]
     },
     "execution_count": 35,
     "metadata": {},
     "output_type": "execute_result"
    }
   ],
   "source": [
    "model.fit(xtrain,ytrain,validation_data=(xtest,ytest),epochs=50,batch_size=30000,verbose=2)"
   ]
  },
  {
   "cell_type": "code",
   "execution_count": 36,
   "metadata": {
    "execution": {
     "iopub.execute_input": "2020-10-11T04:22:47.834924Z",
     "iopub.status.busy": "2020-10-11T04:22:47.833950Z",
     "iopub.status.idle": "2020-10-11T04:23:43.907834Z",
     "shell.execute_reply": "2020-10-11T04:23:43.907207Z"
    },
    "papermill": {
     "duration": 56.20851,
     "end_time": "2020-10-11T04:23:43.907943",
     "exception": false,
     "start_time": "2020-10-11T04:22:47.699433",
     "status": "completed"
    },
    "tags": []
   },
   "outputs": [],
   "source": [
    "ypred=model.predict(xtest)"
   ]
  },
  {
   "cell_type": "code",
   "execution_count": 37,
   "metadata": {
    "execution": {
     "iopub.execute_input": "2020-10-11T04:23:44.165057Z",
     "iopub.status.busy": "2020-10-11T04:23:44.163545Z",
     "iopub.status.idle": "2020-10-11T04:23:44.167347Z",
     "shell.execute_reply": "2020-10-11T04:23:44.167824Z"
    },
    "papermill": {
     "duration": 0.138572,
     "end_time": "2020-10-11T04:23:44.167942",
     "exception": false,
     "start_time": "2020-10-11T04:23:44.029370",
     "status": "completed"
    },
    "tags": []
   },
   "outputs": [
    {
     "data": {
      "text/plain": [
       "array([[0.01057972],\n",
       "       [0.01057972],\n",
       "       [0.01057972],\n",
       "       [0.01057972],\n",
       "       [0.01057972]], dtype=float32)"
      ]
     },
     "execution_count": 37,
     "metadata": {},
     "output_type": "execute_result"
    }
   ],
   "source": [
    "ypred[:5]"
   ]
  },
  {
   "cell_type": "code",
   "execution_count": 38,
   "metadata": {
    "execution": {
     "iopub.execute_input": "2020-10-11T04:23:44.421849Z",
     "iopub.status.busy": "2020-10-11T04:23:44.420939Z",
     "iopub.status.idle": "2020-10-11T04:23:44.426014Z",
     "shell.execute_reply": "2020-10-11T04:23:44.425516Z"
    },
    "papermill": {
     "duration": 0.132652,
     "end_time": "2020-10-11T04:23:44.426113",
     "exception": false,
     "start_time": "2020-10-11T04:23:44.293461",
     "status": "completed"
    },
    "tags": []
   },
   "outputs": [],
   "source": [
    "ypred=scaler.inverse_transform(ypred)"
   ]
  },
  {
   "cell_type": "markdown",
   "metadata": {
    "papermill": {
     "duration": 0.122177,
     "end_time": "2020-10-11T04:23:44.668943",
     "exception": false,
     "start_time": "2020-10-11T04:23:44.546766",
     "status": "completed"
    },
    "tags": []
   },
   "source": [
    "we our using above scaler to transfrom to denormalize ypred"
   ]
  },
  {
   "cell_type": "code",
   "execution_count": 39,
   "metadata": {
    "execution": {
     "iopub.execute_input": "2020-10-11T04:23:44.922017Z",
     "iopub.status.busy": "2020-10-11T04:23:44.921309Z",
     "iopub.status.idle": "2020-10-11T04:23:44.928123Z",
     "shell.execute_reply": "2020-10-11T04:23:44.927569Z"
    },
    "papermill": {
     "duration": 0.133552,
     "end_time": "2020-10-11T04:23:44.928248",
     "exception": false,
     "start_time": "2020-10-11T04:23:44.794696",
     "status": "completed"
    },
    "tags": []
   },
   "outputs": [
    {
     "data": {
      "text/plain": [
       "array([[1.1801689],\n",
       "       [1.1801689],\n",
       "       [1.1801689],\n",
       "       ...,\n",
       "       [1.1802586],\n",
       "       [1.1802566],\n",
       "       [1.1802586]], dtype=float32)"
      ]
     },
     "execution_count": 39,
     "metadata": {},
     "output_type": "execute_result"
    }
   ],
   "source": [
    "ypred"
   ]
  },
  {
   "cell_type": "code",
   "execution_count": 40,
   "metadata": {
    "execution": {
     "iopub.execute_input": "2020-10-11T04:23:45.198110Z",
     "iopub.status.busy": "2020-10-11T04:23:45.197251Z",
     "iopub.status.idle": "2020-10-11T04:23:45.199286Z",
     "shell.execute_reply": "2020-10-11T04:23:45.199786Z"
    },
    "papermill": {
     "duration": 0.130443,
     "end_time": "2020-10-11T04:23:45.199910",
     "exception": false,
     "start_time": "2020-10-11T04:23:45.069467",
     "status": "completed"
    },
    "tags": []
   },
   "outputs": [],
   "source": [
    "ytest = ytest.reshape((len(ytest), 1))"
   ]
  },
  {
   "cell_type": "markdown",
   "metadata": {
    "papermill": {
     "duration": 0.122624,
     "end_time": "2020-10-11T04:23:45.447838",
     "exception": false,
     "start_time": "2020-10-11T04:23:45.325214",
     "status": "completed"
    },
    "tags": []
   },
   "source": [
    "Converting 1d data to 2d"
   ]
  },
  {
   "cell_type": "code",
   "execution_count": 41,
   "metadata": {
    "execution": {
     "iopub.execute_input": "2020-10-11T04:23:45.702067Z",
     "iopub.status.busy": "2020-10-11T04:23:45.700581Z",
     "iopub.status.idle": "2020-10-11T04:23:45.705580Z",
     "shell.execute_reply": "2020-10-11T04:23:45.704929Z"
    },
    "papermill": {
     "duration": 0.138131,
     "end_time": "2020-10-11T04:23:45.705720",
     "exception": false,
     "start_time": "2020-10-11T04:23:45.567589",
     "status": "completed"
    },
    "tags": []
   },
   "outputs": [],
   "source": [
    "y_test = scaler.inverse_transform(ytest)"
   ]
  },
  {
   "cell_type": "code",
   "execution_count": 42,
   "metadata": {
    "execution": {
     "iopub.execute_input": "2020-10-11T04:23:45.961852Z",
     "iopub.status.busy": "2020-10-11T04:23:45.960260Z",
     "iopub.status.idle": "2020-10-11T04:23:45.964377Z",
     "shell.execute_reply": "2020-10-11T04:23:45.963750Z"
    },
    "papermill": {
     "duration": 0.13427,
     "end_time": "2020-10-11T04:23:45.964485",
     "exception": false,
     "start_time": "2020-10-11T04:23:45.830215",
     "status": "completed"
    },
    "tags": []
   },
   "outputs": [
    {
     "data": {
      "text/plain": [
       "array([[1.],\n",
       "       [1.],\n",
       "       [1.],\n",
       "       ...,\n",
       "       [1.],\n",
       "       [1.],\n",
       "       [1.]])"
      ]
     },
     "execution_count": 42,
     "metadata": {},
     "output_type": "execute_result"
    }
   ],
   "source": [
    "y_test"
   ]
  },
  {
   "cell_type": "code",
   "execution_count": 43,
   "metadata": {
    "execution": {
     "iopub.execute_input": "2020-10-11T04:23:46.227047Z",
     "iopub.status.busy": "2020-10-11T04:23:46.226265Z",
     "iopub.status.idle": "2020-10-11T04:23:46.278506Z",
     "shell.execute_reply": "2020-10-11T04:23:46.278942Z"
    },
    "papermill": {
     "duration": 0.180961,
     "end_time": "2020-10-11T04:23:46.279071",
     "exception": false,
     "start_time": "2020-10-11T04:23:46.098110",
     "status": "completed"
    },
    "tags": []
   },
   "outputs": [
    {
     "data": {
      "text/plain": [
       "4.14798548989181"
      ]
     },
     "execution_count": 43,
     "metadata": {},
     "output_type": "execute_result"
    }
   ],
   "source": [
    "from sklearn.metrics import mean_squared_error\n",
    "np.sqrt(mean_squared_error(y_test,ypred))"
   ]
  },
  {
   "cell_type": "code",
   "execution_count": 44,
   "metadata": {
    "execution": {
     "iopub.execute_input": "2020-10-11T04:23:46.540756Z",
     "iopub.status.busy": "2020-10-11T04:23:46.539873Z",
     "iopub.status.idle": "2020-10-11T04:23:46.544047Z",
     "shell.execute_reply": "2020-10-11T04:23:46.543364Z"
    },
    "papermill": {
     "duration": 0.137093,
     "end_time": "2020-10-11T04:23:46.544207",
     "exception": false,
     "start_time": "2020-10-11T04:23:46.407114",
     "status": "completed"
    },
    "tags": []
   },
   "outputs": [
    {
     "data": {
      "text/plain": [
       "array([[1.],\n",
       "       [1.],\n",
       "       [1.],\n",
       "       [1.],\n",
       "       [1.]])"
      ]
     },
     "execution_count": 44,
     "metadata": {},
     "output_type": "execute_result"
    }
   ],
   "source": [
    "y_test[:5]"
   ]
  },
  {
   "cell_type": "code",
   "execution_count": 45,
   "metadata": {
    "execution": {
     "iopub.execute_input": "2020-10-11T04:23:46.823698Z",
     "iopub.status.busy": "2020-10-11T04:23:46.822751Z",
     "iopub.status.idle": "2020-10-11T04:23:46.827317Z",
     "shell.execute_reply": "2020-10-11T04:23:46.826735Z"
    },
    "papermill": {
     "duration": 0.14183,
     "end_time": "2020-10-11T04:23:46.827439",
     "exception": false,
     "start_time": "2020-10-11T04:23:46.685609",
     "status": "completed"
    },
    "tags": []
   },
   "outputs": [
    {
     "data": {
      "text/plain": [
       "array([[1.1801689],\n",
       "       [1.1801689],\n",
       "       [1.1801689],\n",
       "       [1.1801689],\n",
       "       [1.1801667]], dtype=float32)"
      ]
     },
     "execution_count": 45,
     "metadata": {},
     "output_type": "execute_result"
    }
   ],
   "source": [
    "ypred[:5]"
   ]
  },
  {
   "cell_type": "markdown",
   "metadata": {
    "papermill": {
     "duration": 0.136581,
     "end_time": "2020-10-11T04:23:47.100236",
     "exception": false,
     "start_time": "2020-10-11T04:23:46.963655",
     "status": "completed"
    },
    "tags": []
   },
   "source": [
    "Prediction item_price for Test data"
   ]
  },
  {
   "cell_type": "code",
   "execution_count": 46,
   "metadata": {
    "execution": {
     "iopub.execute_input": "2020-10-11T04:23:47.360921Z",
     "iopub.status.busy": "2020-10-11T04:23:47.360087Z",
     "iopub.status.idle": "2020-10-11T04:23:47.363698Z",
     "shell.execute_reply": "2020-10-11T04:23:47.364262Z"
    },
    "papermill": {
     "duration": 0.14025,
     "end_time": "2020-10-11T04:23:47.364388",
     "exception": false,
     "start_time": "2020-10-11T04:23:47.224138",
     "status": "completed"
    },
    "tags": []
   },
   "outputs": [
    {
     "data": {
      "text/html": [
       "<div>\n",
       "<style scoped>\n",
       "    .dataframe tbody tr th:only-of-type {\n",
       "        vertical-align: middle;\n",
       "    }\n",
       "\n",
       "    .dataframe tbody tr th {\n",
       "        vertical-align: top;\n",
       "    }\n",
       "\n",
       "    .dataframe thead th {\n",
       "        text-align: right;\n",
       "    }\n",
       "</style>\n",
       "<table border=\"1\" class=\"dataframe\">\n",
       "  <thead>\n",
       "    <tr style=\"text-align: right;\">\n",
       "      <th></th>\n",
       "      <th>ID</th>\n",
       "      <th>shop_id</th>\n",
       "      <th>item_id</th>\n",
       "    </tr>\n",
       "  </thead>\n",
       "  <tbody>\n",
       "    <tr>\n",
       "      <th>0</th>\n",
       "      <td>0</td>\n",
       "      <td>5</td>\n",
       "      <td>5037</td>\n",
       "    </tr>\n",
       "    <tr>\n",
       "      <th>1</th>\n",
       "      <td>1</td>\n",
       "      <td>5</td>\n",
       "      <td>5320</td>\n",
       "    </tr>\n",
       "    <tr>\n",
       "      <th>2</th>\n",
       "      <td>2</td>\n",
       "      <td>5</td>\n",
       "      <td>5233</td>\n",
       "    </tr>\n",
       "    <tr>\n",
       "      <th>3</th>\n",
       "      <td>3</td>\n",
       "      <td>5</td>\n",
       "      <td>5232</td>\n",
       "    </tr>\n",
       "    <tr>\n",
       "      <th>4</th>\n",
       "      <td>4</td>\n",
       "      <td>5</td>\n",
       "      <td>5268</td>\n",
       "    </tr>\n",
       "    <tr>\n",
       "      <th>...</th>\n",
       "      <td>...</td>\n",
       "      <td>...</td>\n",
       "      <td>...</td>\n",
       "    </tr>\n",
       "    <tr>\n",
       "      <th>214195</th>\n",
       "      <td>214195</td>\n",
       "      <td>45</td>\n",
       "      <td>18454</td>\n",
       "    </tr>\n",
       "    <tr>\n",
       "      <th>214196</th>\n",
       "      <td>214196</td>\n",
       "      <td>45</td>\n",
       "      <td>16188</td>\n",
       "    </tr>\n",
       "    <tr>\n",
       "      <th>214197</th>\n",
       "      <td>214197</td>\n",
       "      <td>45</td>\n",
       "      <td>15757</td>\n",
       "    </tr>\n",
       "    <tr>\n",
       "      <th>214198</th>\n",
       "      <td>214198</td>\n",
       "      <td>45</td>\n",
       "      <td>19648</td>\n",
       "    </tr>\n",
       "    <tr>\n",
       "      <th>214199</th>\n",
       "      <td>214199</td>\n",
       "      <td>45</td>\n",
       "      <td>969</td>\n",
       "    </tr>\n",
       "  </tbody>\n",
       "</table>\n",
       "<p>214200 rows × 3 columns</p>\n",
       "</div>"
      ],
      "text/plain": [
       "            ID  shop_id  item_id\n",
       "0            0        5     5037\n",
       "1            1        5     5320\n",
       "2            2        5     5233\n",
       "3            3        5     5232\n",
       "4            4        5     5268\n",
       "...        ...      ...      ...\n",
       "214195  214195       45    18454\n",
       "214196  214196       45    16188\n",
       "214197  214197       45    15757\n",
       "214198  214198       45    19648\n",
       "214199  214199       45      969\n",
       "\n",
       "[214200 rows x 3 columns]"
      ]
     },
     "execution_count": 46,
     "metadata": {},
     "output_type": "execute_result"
    }
   ],
   "source": [
    "test"
   ]
  },
  {
   "cell_type": "markdown",
   "metadata": {
    "papermill": {
     "duration": 0.124175,
     "end_time": "2020-10-11T04:23:47.613772",
     "exception": false,
     "start_time": "2020-10-11T04:23:47.489597",
     "status": "completed"
    },
    "tags": []
   },
   "source": [
    "No to implement above model to predict item_cnt_day we need item_price in our test data,so we r gonna predict item_price first than gonna used above model to find item_cnt_day"
   ]
  },
  {
   "cell_type": "markdown",
   "metadata": {
    "papermill": {
     "duration": 0.125098,
     "end_time": "2020-10-11T04:23:47.866920",
     "exception": false,
     "start_time": "2020-10-11T04:23:47.741822",
     "status": "completed"
    },
    "tags": []
   },
   "source": [
    "To predict item_price all off the above process will be repeat{we will shift the features,do minmaxscaler,gonna build LSTM model again,than we will predict item_price"
   ]
  },
  {
   "cell_type": "code",
   "execution_count": 47,
   "metadata": {
    "execution": {
     "iopub.execute_input": "2020-10-11T04:23:48.130212Z",
     "iopub.status.busy": "2020-10-11T04:23:48.129235Z",
     "iopub.status.idle": "2020-10-11T04:23:48.140272Z",
     "shell.execute_reply": "2020-10-11T04:23:48.139537Z"
    },
    "papermill": {
     "duration": 0.14733,
     "end_time": "2020-10-11T04:23:48.140384",
     "exception": false,
     "start_time": "2020-10-11T04:23:47.993054",
     "status": "completed"
    },
    "tags": []
   },
   "outputs": [
    {
     "data": {
      "text/html": [
       "<div>\n",
       "<style scoped>\n",
       "    .dataframe tbody tr th:only-of-type {\n",
       "        vertical-align: middle;\n",
       "    }\n",
       "\n",
       "    .dataframe tbody tr th {\n",
       "        vertical-align: top;\n",
       "    }\n",
       "\n",
       "    .dataframe thead th {\n",
       "        text-align: right;\n",
       "    }\n",
       "</style>\n",
       "<table border=\"1\" class=\"dataframe\">\n",
       "  <thead>\n",
       "    <tr style=\"text-align: right;\">\n",
       "      <th></th>\n",
       "      <th>shop_id</th>\n",
       "      <th>item_id</th>\n",
       "      <th>item_price</th>\n",
       "    </tr>\n",
       "    <tr>\n",
       "      <th>date</th>\n",
       "      <th></th>\n",
       "      <th></th>\n",
       "      <th></th>\n",
       "    </tr>\n",
       "  </thead>\n",
       "  <tbody>\n",
       "    <tr>\n",
       "      <th>2013-02-01</th>\n",
       "      <td>59</td>\n",
       "      <td>22154</td>\n",
       "      <td>999.00</td>\n",
       "    </tr>\n",
       "    <tr>\n",
       "      <th>2013-03-01</th>\n",
       "      <td>25</td>\n",
       "      <td>2552</td>\n",
       "      <td>899.00</td>\n",
       "    </tr>\n",
       "    <tr>\n",
       "      <th>2013-05-01</th>\n",
       "      <td>25</td>\n",
       "      <td>2552</td>\n",
       "      <td>899.00</td>\n",
       "    </tr>\n",
       "    <tr>\n",
       "      <th>2013-06-01</th>\n",
       "      <td>25</td>\n",
       "      <td>2554</td>\n",
       "      <td>1709.05</td>\n",
       "    </tr>\n",
       "    <tr>\n",
       "      <th>2013-01-15</th>\n",
       "      <td>25</td>\n",
       "      <td>2555</td>\n",
       "      <td>1099.00</td>\n",
       "    </tr>\n",
       "    <tr>\n",
       "      <th>...</th>\n",
       "      <td>...</td>\n",
       "      <td>...</td>\n",
       "      <td>...</td>\n",
       "    </tr>\n",
       "    <tr>\n",
       "      <th>2015-10-10</th>\n",
       "      <td>25</td>\n",
       "      <td>7409</td>\n",
       "      <td>299.00</td>\n",
       "    </tr>\n",
       "    <tr>\n",
       "      <th>2015-09-10</th>\n",
       "      <td>25</td>\n",
       "      <td>7460</td>\n",
       "      <td>299.00</td>\n",
       "    </tr>\n",
       "    <tr>\n",
       "      <th>2015-10-14</th>\n",
       "      <td>25</td>\n",
       "      <td>7459</td>\n",
       "      <td>349.00</td>\n",
       "    </tr>\n",
       "    <tr>\n",
       "      <th>2015-10-22</th>\n",
       "      <td>25</td>\n",
       "      <td>7440</td>\n",
       "      <td>299.00</td>\n",
       "    </tr>\n",
       "    <tr>\n",
       "      <th>2015-03-10</th>\n",
       "      <td>25</td>\n",
       "      <td>7460</td>\n",
       "      <td>299.00</td>\n",
       "    </tr>\n",
       "  </tbody>\n",
       "</table>\n",
       "<p>2935849 rows × 3 columns</p>\n",
       "</div>"
      ],
      "text/plain": [
       "            shop_id  item_id  item_price\n",
       "date                                    \n",
       "2013-02-01       59    22154      999.00\n",
       "2013-03-01       25     2552      899.00\n",
       "2013-05-01       25     2552      899.00\n",
       "2013-06-01       25     2554     1709.05\n",
       "2013-01-15       25     2555     1099.00\n",
       "...             ...      ...         ...\n",
       "2015-10-10       25     7409      299.00\n",
       "2015-09-10       25     7460      299.00\n",
       "2015-10-14       25     7459      349.00\n",
       "2015-10-22       25     7440      299.00\n",
       "2015-03-10       25     7460      299.00\n",
       "\n",
       "[2935849 rows x 3 columns]"
      ]
     },
     "execution_count": 47,
     "metadata": {},
     "output_type": "execute_result"
    }
   ],
   "source": [
    "train"
   ]
  },
  {
   "cell_type": "code",
   "execution_count": 48,
   "metadata": {
    "execution": {
     "iopub.execute_input": "2020-10-11T04:23:48.436964Z",
     "iopub.status.busy": "2020-10-11T04:23:48.436007Z",
     "iopub.status.idle": "2020-10-11T04:23:48.438724Z",
     "shell.execute_reply": "2020-10-11T04:23:48.438245Z"
    },
    "papermill": {
     "duration": 0.164498,
     "end_time": "2020-10-11T04:23:48.438852",
     "exception": false,
     "start_time": "2020-10-11T04:23:48.274354",
     "status": "completed"
    },
    "tags": []
   },
   "outputs": [],
   "source": [
    "train=train[['item_price','shop_id', 'item_id']]"
   ]
  },
  {
   "cell_type": "code",
   "execution_count": 49,
   "metadata": {
    "execution": {
     "iopub.execute_input": "2020-10-11T04:23:48.698670Z",
     "iopub.status.busy": "2020-10-11T04:23:48.697894Z",
     "iopub.status.idle": "2020-10-11T04:23:48.700443Z",
     "shell.execute_reply": "2020-10-11T04:23:48.701014Z"
    },
    "papermill": {
     "duration": 0.13485,
     "end_time": "2020-10-11T04:23:48.701152",
     "exception": false,
     "start_time": "2020-10-11T04:23:48.566302",
     "status": "completed"
    },
    "tags": []
   },
   "outputs": [],
   "source": [
    "trr=train"
   ]
  },
  {
   "cell_type": "code",
   "execution_count": 50,
   "metadata": {
    "execution": {
     "iopub.execute_input": "2020-10-11T04:23:48.959153Z",
     "iopub.status.busy": "2020-10-11T04:23:48.957869Z",
     "iopub.status.idle": "2020-10-11T04:23:49.011117Z",
     "shell.execute_reply": "2020-10-11T04:23:49.012442Z"
    },
    "papermill": {
     "duration": 0.185391,
     "end_time": "2020-10-11T04:23:49.012824",
     "exception": false,
     "start_time": "2020-10-11T04:23:48.827433",
     "status": "completed"
    },
    "tags": []
   },
   "outputs": [
    {
     "name": "stderr",
     "output_type": "stream",
     "text": [
      "/opt/conda/lib/python3.7/site-packages/ipykernel_launcher.py:4: SettingWithCopyWarning: \n",
      "A value is trying to be set on a copy of a slice from a DataFrame.\n",
      "Try using .loc[row_indexer,col_indexer] = value instead\n",
      "\n",
      "See the caveats in the documentation: https://pandas.pydata.org/pandas-docs/stable/user_guide/indexing.html#returning-a-view-versus-a-copy\n",
      "  after removing the cwd from sys.path.\n"
     ]
    }
   ],
   "source": [
    "j=1\n",
    "a=['item_price','shop_id', 'item_id']\n",
    "for i in a:\n",
    "    trr[i+str(j)]=trr[i].shift(-1)\n",
    "    "
   ]
  },
  {
   "cell_type": "code",
   "execution_count": 51,
   "metadata": {
    "execution": {
     "iopub.execute_input": "2020-10-11T04:23:49.287898Z",
     "iopub.status.busy": "2020-10-11T04:23:49.286876Z",
     "iopub.status.idle": "2020-10-11T04:23:49.302970Z",
     "shell.execute_reply": "2020-10-11T04:23:49.302391Z"
    },
    "papermill": {
     "duration": 0.160074,
     "end_time": "2020-10-11T04:23:49.303087",
     "exception": false,
     "start_time": "2020-10-11T04:23:49.143013",
     "status": "completed"
    },
    "tags": []
   },
   "outputs": [
    {
     "data": {
      "text/html": [
       "<div>\n",
       "<style scoped>\n",
       "    .dataframe tbody tr th:only-of-type {\n",
       "        vertical-align: middle;\n",
       "    }\n",
       "\n",
       "    .dataframe tbody tr th {\n",
       "        vertical-align: top;\n",
       "    }\n",
       "\n",
       "    .dataframe thead th {\n",
       "        text-align: right;\n",
       "    }\n",
       "</style>\n",
       "<table border=\"1\" class=\"dataframe\">\n",
       "  <thead>\n",
       "    <tr style=\"text-align: right;\">\n",
       "      <th></th>\n",
       "      <th>item_price</th>\n",
       "      <th>shop_id</th>\n",
       "      <th>item_id</th>\n",
       "      <th>item_price1</th>\n",
       "      <th>shop_id1</th>\n",
       "      <th>item_id1</th>\n",
       "    </tr>\n",
       "    <tr>\n",
       "      <th>date</th>\n",
       "      <th></th>\n",
       "      <th></th>\n",
       "      <th></th>\n",
       "      <th></th>\n",
       "      <th></th>\n",
       "      <th></th>\n",
       "    </tr>\n",
       "  </thead>\n",
       "  <tbody>\n",
       "    <tr>\n",
       "      <th>2013-02-01</th>\n",
       "      <td>999.00</td>\n",
       "      <td>59</td>\n",
       "      <td>22154</td>\n",
       "      <td>899.00</td>\n",
       "      <td>25.0</td>\n",
       "      <td>2552.0</td>\n",
       "    </tr>\n",
       "    <tr>\n",
       "      <th>2013-03-01</th>\n",
       "      <td>899.00</td>\n",
       "      <td>25</td>\n",
       "      <td>2552</td>\n",
       "      <td>899.00</td>\n",
       "      <td>25.0</td>\n",
       "      <td>2552.0</td>\n",
       "    </tr>\n",
       "    <tr>\n",
       "      <th>2013-05-01</th>\n",
       "      <td>899.00</td>\n",
       "      <td>25</td>\n",
       "      <td>2552</td>\n",
       "      <td>1709.05</td>\n",
       "      <td>25.0</td>\n",
       "      <td>2554.0</td>\n",
       "    </tr>\n",
       "    <tr>\n",
       "      <th>2013-06-01</th>\n",
       "      <td>1709.05</td>\n",
       "      <td>25</td>\n",
       "      <td>2554</td>\n",
       "      <td>1099.00</td>\n",
       "      <td>25.0</td>\n",
       "      <td>2555.0</td>\n",
       "    </tr>\n",
       "    <tr>\n",
       "      <th>2013-01-15</th>\n",
       "      <td>1099.00</td>\n",
       "      <td>25</td>\n",
       "      <td>2555</td>\n",
       "      <td>349.00</td>\n",
       "      <td>25.0</td>\n",
       "      <td>2564.0</td>\n",
       "    </tr>\n",
       "    <tr>\n",
       "      <th>...</th>\n",
       "      <td>...</td>\n",
       "      <td>...</td>\n",
       "      <td>...</td>\n",
       "      <td>...</td>\n",
       "      <td>...</td>\n",
       "      <td>...</td>\n",
       "    </tr>\n",
       "    <tr>\n",
       "      <th>2015-10-10</th>\n",
       "      <td>299.00</td>\n",
       "      <td>25</td>\n",
       "      <td>7409</td>\n",
       "      <td>299.00</td>\n",
       "      <td>25.0</td>\n",
       "      <td>7460.0</td>\n",
       "    </tr>\n",
       "    <tr>\n",
       "      <th>2015-09-10</th>\n",
       "      <td>299.00</td>\n",
       "      <td>25</td>\n",
       "      <td>7460</td>\n",
       "      <td>349.00</td>\n",
       "      <td>25.0</td>\n",
       "      <td>7459.0</td>\n",
       "    </tr>\n",
       "    <tr>\n",
       "      <th>2015-10-14</th>\n",
       "      <td>349.00</td>\n",
       "      <td>25</td>\n",
       "      <td>7459</td>\n",
       "      <td>299.00</td>\n",
       "      <td>25.0</td>\n",
       "      <td>7440.0</td>\n",
       "    </tr>\n",
       "    <tr>\n",
       "      <th>2015-10-22</th>\n",
       "      <td>299.00</td>\n",
       "      <td>25</td>\n",
       "      <td>7440</td>\n",
       "      <td>299.00</td>\n",
       "      <td>25.0</td>\n",
       "      <td>7460.0</td>\n",
       "    </tr>\n",
       "    <tr>\n",
       "      <th>2015-03-10</th>\n",
       "      <td>299.00</td>\n",
       "      <td>25</td>\n",
       "      <td>7460</td>\n",
       "      <td>NaN</td>\n",
       "      <td>NaN</td>\n",
       "      <td>NaN</td>\n",
       "    </tr>\n",
       "  </tbody>\n",
       "</table>\n",
       "<p>2935849 rows × 6 columns</p>\n",
       "</div>"
      ],
      "text/plain": [
       "            item_price  shop_id  item_id  item_price1  shop_id1  item_id1\n",
       "date                                                                     \n",
       "2013-02-01      999.00       59    22154       899.00      25.0    2552.0\n",
       "2013-03-01      899.00       25     2552       899.00      25.0    2552.0\n",
       "2013-05-01      899.00       25     2552      1709.05      25.0    2554.0\n",
       "2013-06-01     1709.05       25     2554      1099.00      25.0    2555.0\n",
       "2013-01-15     1099.00       25     2555       349.00      25.0    2564.0\n",
       "...                ...      ...      ...          ...       ...       ...\n",
       "2015-10-10      299.00       25     7409       299.00      25.0    7460.0\n",
       "2015-09-10      299.00       25     7460       349.00      25.0    7459.0\n",
       "2015-10-14      349.00       25     7459       299.00      25.0    7440.0\n",
       "2015-10-22      299.00       25     7440       299.00      25.0    7460.0\n",
       "2015-03-10      299.00       25     7460          NaN       NaN       NaN\n",
       "\n",
       "[2935849 rows x 6 columns]"
      ]
     },
     "execution_count": 51,
     "metadata": {},
     "output_type": "execute_result"
    }
   ],
   "source": [
    "trr"
   ]
  },
  {
   "cell_type": "code",
   "execution_count": 52,
   "metadata": {
    "execution": {
     "iopub.execute_input": "2020-10-11T04:23:49.581204Z",
     "iopub.status.busy": "2020-10-11T04:23:49.579803Z",
     "iopub.status.idle": "2020-10-11T04:23:49.662337Z",
     "shell.execute_reply": "2020-10-11T04:23:49.662887Z"
    },
    "papermill": {
     "duration": 0.214429,
     "end_time": "2020-10-11T04:23:49.663066",
     "exception": false,
     "start_time": "2020-10-11T04:23:49.448637",
     "status": "completed"
    },
    "tags": []
   },
   "outputs": [],
   "source": [
    "trr.drop([\"shop_id1\",\"item_id1\",\"item_price\"],axis=1,inplace=True)"
   ]
  },
  {
   "cell_type": "code",
   "execution_count": 53,
   "metadata": {
    "execution": {
     "iopub.execute_input": "2020-10-11T04:23:49.928022Z",
     "iopub.status.busy": "2020-10-11T04:23:49.926978Z",
     "iopub.status.idle": "2020-10-11T04:23:49.935844Z",
     "shell.execute_reply": "2020-10-11T04:23:49.935359Z"
    },
    "papermill": {
     "duration": 0.142259,
     "end_time": "2020-10-11T04:23:49.935949",
     "exception": false,
     "start_time": "2020-10-11T04:23:49.793690",
     "status": "completed"
    },
    "tags": []
   },
   "outputs": [],
   "source": [
    "trr.fillna(method='ffill',inplace=True)"
   ]
  },
  {
   "cell_type": "code",
   "execution_count": 54,
   "metadata": {
    "execution": {
     "iopub.execute_input": "2020-10-11T04:23:50.216953Z",
     "iopub.status.busy": "2020-10-11T04:23:50.215152Z",
     "iopub.status.idle": "2020-10-11T04:23:50.217836Z",
     "shell.execute_reply": "2020-10-11T04:23:50.218369Z"
    },
    "papermill": {
     "duration": 0.153888,
     "end_time": "2020-10-11T04:23:50.218515",
     "exception": false,
     "start_time": "2020-10-11T04:23:50.064627",
     "status": "completed"
    },
    "tags": []
   },
   "outputs": [],
   "source": [
    "yyy=trr[\"item_price1\"].values\n",
    "trr.drop([\"item_price1\"],axis=1,inplace=True)"
   ]
  },
  {
   "cell_type": "code",
   "execution_count": 55,
   "metadata": {
    "execution": {
     "iopub.execute_input": "2020-10-11T04:23:50.571807Z",
     "iopub.status.busy": "2020-10-11T04:23:50.570874Z",
     "iopub.status.idle": "2020-10-11T04:23:50.573408Z",
     "shell.execute_reply": "2020-10-11T04:23:50.572649Z"
    },
    "papermill": {
     "duration": 0.21749,
     "end_time": "2020-10-11T04:23:50.573542",
     "exception": false,
     "start_time": "2020-10-11T04:23:50.356052",
     "status": "completed"
    },
    "tags": []
   },
   "outputs": [],
   "source": [
    "yyy=yyy.reshape(len(yyy),1)"
   ]
  },
  {
   "cell_type": "code",
   "execution_count": 56,
   "metadata": {
    "execution": {
     "iopub.execute_input": "2020-10-11T04:23:50.998374Z",
     "iopub.status.busy": "2020-10-11T04:23:50.997377Z",
     "iopub.status.idle": "2020-10-11T04:23:51.001644Z",
     "shell.execute_reply": "2020-10-11T04:23:51.001115Z"
    },
    "papermill": {
     "duration": 0.212059,
     "end_time": "2020-10-11T04:23:51.001750",
     "exception": false,
     "start_time": "2020-10-11T04:23:50.789691",
     "status": "completed"
    },
    "tags": []
   },
   "outputs": [
    {
     "data": {
      "text/plain": [
       "array([[ 899.  ],\n",
       "       [ 899.  ],\n",
       "       [1709.05],\n",
       "       ...,\n",
       "       [ 299.  ],\n",
       "       [ 299.  ],\n",
       "       [ 299.  ]])"
      ]
     },
     "execution_count": 56,
     "metadata": {},
     "output_type": "execute_result"
    }
   ],
   "source": [
    "yyy"
   ]
  },
  {
   "cell_type": "code",
   "execution_count": 57,
   "metadata": {
    "execution": {
     "iopub.execute_input": "2020-10-11T04:23:51.304836Z",
     "iopub.status.busy": "2020-10-11T04:23:51.303816Z",
     "iopub.status.idle": "2020-10-11T04:23:51.308162Z",
     "shell.execute_reply": "2020-10-11T04:23:51.307673Z"
    },
    "papermill": {
     "duration": 0.16051,
     "end_time": "2020-10-11T04:23:51.308288",
     "exception": false,
     "start_time": "2020-10-11T04:23:51.147778",
     "status": "completed"
    },
    "tags": []
   },
   "outputs": [
    {
     "data": {
      "text/html": [
       "<div>\n",
       "<style scoped>\n",
       "    .dataframe tbody tr th:only-of-type {\n",
       "        vertical-align: middle;\n",
       "    }\n",
       "\n",
       "    .dataframe tbody tr th {\n",
       "        vertical-align: top;\n",
       "    }\n",
       "\n",
       "    .dataframe thead th {\n",
       "        text-align: right;\n",
       "    }\n",
       "</style>\n",
       "<table border=\"1\" class=\"dataframe\">\n",
       "  <thead>\n",
       "    <tr style=\"text-align: right;\">\n",
       "      <th></th>\n",
       "      <th>shop_id</th>\n",
       "      <th>item_id</th>\n",
       "    </tr>\n",
       "    <tr>\n",
       "      <th>date</th>\n",
       "      <th></th>\n",
       "      <th></th>\n",
       "    </tr>\n",
       "  </thead>\n",
       "  <tbody>\n",
       "    <tr>\n",
       "      <th>2013-02-01</th>\n",
       "      <td>59</td>\n",
       "      <td>22154</td>\n",
       "    </tr>\n",
       "    <tr>\n",
       "      <th>2013-03-01</th>\n",
       "      <td>25</td>\n",
       "      <td>2552</td>\n",
       "    </tr>\n",
       "    <tr>\n",
       "      <th>2013-05-01</th>\n",
       "      <td>25</td>\n",
       "      <td>2552</td>\n",
       "    </tr>\n",
       "    <tr>\n",
       "      <th>2013-06-01</th>\n",
       "      <td>25</td>\n",
       "      <td>2554</td>\n",
       "    </tr>\n",
       "    <tr>\n",
       "      <th>2013-01-15</th>\n",
       "      <td>25</td>\n",
       "      <td>2555</td>\n",
       "    </tr>\n",
       "    <tr>\n",
       "      <th>...</th>\n",
       "      <td>...</td>\n",
       "      <td>...</td>\n",
       "    </tr>\n",
       "    <tr>\n",
       "      <th>2015-10-10</th>\n",
       "      <td>25</td>\n",
       "      <td>7409</td>\n",
       "    </tr>\n",
       "    <tr>\n",
       "      <th>2015-09-10</th>\n",
       "      <td>25</td>\n",
       "      <td>7460</td>\n",
       "    </tr>\n",
       "    <tr>\n",
       "      <th>2015-10-14</th>\n",
       "      <td>25</td>\n",
       "      <td>7459</td>\n",
       "    </tr>\n",
       "    <tr>\n",
       "      <th>2015-10-22</th>\n",
       "      <td>25</td>\n",
       "      <td>7440</td>\n",
       "    </tr>\n",
       "    <tr>\n",
       "      <th>2015-03-10</th>\n",
       "      <td>25</td>\n",
       "      <td>7460</td>\n",
       "    </tr>\n",
       "  </tbody>\n",
       "</table>\n",
       "<p>2935849 rows × 2 columns</p>\n",
       "</div>"
      ],
      "text/plain": [
       "            shop_id  item_id\n",
       "date                        \n",
       "2013-02-01       59    22154\n",
       "2013-03-01       25     2552\n",
       "2013-05-01       25     2552\n",
       "2013-06-01       25     2554\n",
       "2013-01-15       25     2555\n",
       "...             ...      ...\n",
       "2015-10-10       25     7409\n",
       "2015-09-10       25     7460\n",
       "2015-10-14       25     7459\n",
       "2015-10-22       25     7440\n",
       "2015-03-10       25     7460\n",
       "\n",
       "[2935849 rows x 2 columns]"
      ]
     },
     "execution_count": 57,
     "metadata": {},
     "output_type": "execute_result"
    }
   ],
   "source": [
    "trr"
   ]
  },
  {
   "cell_type": "code",
   "execution_count": 58,
   "metadata": {
    "execution": {
     "iopub.execute_input": "2020-10-11T04:23:51.581862Z",
     "iopub.status.busy": "2020-10-11T04:23:51.580733Z",
     "iopub.status.idle": "2020-10-11T04:23:51.638114Z",
     "shell.execute_reply": "2020-10-11T04:23:51.637562Z"
    },
    "papermill": {
     "duration": 0.197223,
     "end_time": "2020-10-11T04:23:51.638271",
     "exception": false,
     "start_time": "2020-10-11T04:23:51.441048",
     "status": "completed"
    },
    "tags": []
   },
   "outputs": [],
   "source": [
    "from sklearn.preprocessing import MinMaxScaler\n",
    "scale=MinMaxScaler()\n",
    "scale=scale.fit(trr)\n",
    "w=scale.transform(trr)"
   ]
  },
  {
   "cell_type": "code",
   "execution_count": 59,
   "metadata": {
    "execution": {
     "iopub.execute_input": "2020-10-11T04:23:51.908746Z",
     "iopub.status.busy": "2020-10-11T04:23:51.907860Z",
     "iopub.status.idle": "2020-10-11T04:23:51.910721Z",
     "shell.execute_reply": "2020-10-11T04:23:51.910211Z"
    },
    "papermill": {
     "duration": 0.140787,
     "end_time": "2020-10-11T04:23:51.910819",
     "exception": false,
     "start_time": "2020-10-11T04:23:51.770032",
     "status": "completed"
    },
    "tags": []
   },
   "outputs": [],
   "source": [
    "www=w"
   ]
  },
  {
   "cell_type": "code",
   "execution_count": 60,
   "metadata": {
    "execution": {
     "iopub.execute_input": "2020-10-11T04:23:52.177967Z",
     "iopub.status.busy": "2020-10-11T04:23:52.177068Z",
     "iopub.status.idle": "2020-10-11T04:23:52.180481Z",
     "shell.execute_reply": "2020-10-11T04:23:52.180996Z"
    },
    "papermill": {
     "duration": 0.137471,
     "end_time": "2020-10-11T04:23:52.181124",
     "exception": false,
     "start_time": "2020-10-11T04:23:52.043653",
     "status": "completed"
    },
    "tags": []
   },
   "outputs": [
    {
     "data": {
      "text/plain": [
       "array([[ 899.  ],\n",
       "       [ 899.  ],\n",
       "       [1709.05],\n",
       "       ...,\n",
       "       [ 299.  ],\n",
       "       [ 299.  ],\n",
       "       [ 299.  ]])"
      ]
     },
     "execution_count": 60,
     "metadata": {},
     "output_type": "execute_result"
    }
   ],
   "source": [
    "yyy"
   ]
  },
  {
   "cell_type": "code",
   "execution_count": 61,
   "metadata": {
    "execution": {
     "iopub.execute_input": "2020-10-11T04:23:52.454627Z",
     "iopub.status.busy": "2020-10-11T04:23:52.453688Z",
     "iopub.status.idle": "2020-10-11T04:23:52.477274Z",
     "shell.execute_reply": "2020-10-11T04:23:52.476749Z"
    },
    "papermill": {
     "duration": 0.160187,
     "end_time": "2020-10-11T04:23:52.477386",
     "exception": false,
     "start_time": "2020-10-11T04:23:52.317199",
     "status": "completed"
    },
    "tags": []
   },
   "outputs": [],
   "source": [
    "scalerr=scale.fit(yyy)\n",
    "wewe=scalerr.transform(yyy)"
   ]
  },
  {
   "cell_type": "markdown",
   "metadata": {
    "papermill": {
     "duration": 0.133992,
     "end_time": "2020-10-11T04:23:52.741684",
     "exception": false,
     "start_time": "2020-10-11T04:23:52.607692",
     "status": "completed"
    },
    "tags": []
   },
   "source": [
    "Note here scalerr is used as transforming function for our variable"
   ]
  },
  {
   "cell_type": "code",
   "execution_count": 62,
   "metadata": {
    "execution": {
     "iopub.execute_input": "2020-10-11T04:23:53.028090Z",
     "iopub.status.busy": "2020-10-11T04:23:53.027346Z",
     "iopub.status.idle": "2020-10-11T04:23:53.030438Z",
     "shell.execute_reply": "2020-10-11T04:23:53.031087Z"
    },
    "papermill": {
     "duration": 0.145845,
     "end_time": "2020-10-11T04:23:53.031256",
     "exception": false,
     "start_time": "2020-10-11T04:23:52.885411",
     "status": "completed"
    },
    "tags": []
   },
   "outputs": [],
   "source": [
    "xtrain,xtest,ytrain,ytest=www[:2348680,0:2],www[2348680:,0:2],wewe[:2348680,-1],wewe[2348680:,-1]"
   ]
  },
  {
   "cell_type": "code",
   "execution_count": 63,
   "metadata": {
    "execution": {
     "iopub.execute_input": "2020-10-11T04:23:53.300377Z",
     "iopub.status.busy": "2020-10-11T04:23:53.299571Z",
     "iopub.status.idle": "2020-10-11T04:23:53.302775Z",
     "shell.execute_reply": "2020-10-11T04:23:53.302176Z"
    },
    "papermill": {
     "duration": 0.139667,
     "end_time": "2020-10-11T04:23:53.302886",
     "exception": false,
     "start_time": "2020-10-11T04:23:53.163219",
     "status": "completed"
    },
    "tags": []
   },
   "outputs": [],
   "source": [
    "xtes=xtest"
   ]
  },
  {
   "cell_type": "code",
   "execution_count": 64,
   "metadata": {
    "execution": {
     "iopub.execute_input": "2020-10-11T04:23:53.572918Z",
     "iopub.status.busy": "2020-10-11T04:23:53.572084Z",
     "iopub.status.idle": "2020-10-11T04:23:53.575166Z",
     "shell.execute_reply": "2020-10-11T04:23:53.574690Z"
    },
    "papermill": {
     "duration": 0.138852,
     "end_time": "2020-10-11T04:23:53.575294",
     "exception": false,
     "start_time": "2020-10-11T04:23:53.436442",
     "status": "completed"
    },
    "tags": []
   },
   "outputs": [],
   "source": [
    "xtrain = xtrain.reshape(xtrain.shape[0], xtrain.shape[1], 1)\n",
    "xtest = xtest.reshape(xtest.shape[0], xtest.shape[1], 1)"
   ]
  },
  {
   "cell_type": "code",
   "execution_count": 65,
   "metadata": {
    "execution": {
     "iopub.execute_input": "2020-10-11T04:23:53.851940Z",
     "iopub.status.busy": "2020-10-11T04:23:53.850904Z",
     "iopub.status.idle": "2020-10-11T04:23:54.231208Z",
     "shell.execute_reply": "2020-10-11T04:23:54.230631Z"
    },
    "papermill": {
     "duration": 0.523703,
     "end_time": "2020-10-11T04:23:54.231346",
     "exception": false,
     "start_time": "2020-10-11T04:23:53.707643",
     "status": "completed"
    },
    "tags": []
   },
   "outputs": [],
   "source": [
    "modelt=Sequential()\n",
    "modelt.add(LSTM(100,activation=\"relu\",return_sequences=True,input_shape=(xtrain.shape[1],xtrain.shape[2])))\n",
    "modelt.add(Dropout(0.1))\n",
    "modelt.add(LSTM(100,activation=\"relu\",return_sequences=True))\n",
    "modelt.add(Dropout(0.1))\n",
    "modelt.add(LSTM(100,activation=\"relu\",return_sequences=True))\n",
    "modelt.add(Dropout(0.1))\n",
    "modelt.add(LSTM(100,activation=\"relu\",return_sequences=True))\n",
    "modelt.add(Dropout(0.1))\n",
    "modelt.add(LSTM(50,activation=\"relu\"))\n",
    "modelt.add(Dense(1))\n",
    "modelt.compile(optimizer='adam', loss='mse')"
   ]
  },
  {
   "cell_type": "code",
   "execution_count": 66,
   "metadata": {
    "execution": {
     "iopub.execute_input": "2020-10-11T04:23:54.508062Z",
     "iopub.status.busy": "2020-10-11T04:23:54.507124Z",
     "iopub.status.idle": "2020-10-11T04:29:04.959589Z",
     "shell.execute_reply": "2020-10-11T04:29:04.960049Z"
    },
    "papermill": {
     "duration": 310.594966,
     "end_time": "2020-10-11T04:29:04.960231",
     "exception": false,
     "start_time": "2020-10-11T04:23:54.365265",
     "status": "completed"
    },
    "tags": []
   },
   "outputs": [
    {
     "name": "stdout",
     "output_type": "stream",
     "text": [
      "Epoch 1/50\n",
      "79/79 - 7s - loss: 2.9363e-05 - val_loss: 4.1151e-05\n",
      "Epoch 2/50\n",
      "79/79 - 6s - loss: 2.9160e-05 - val_loss: 4.1147e-05\n",
      "Epoch 3/50\n",
      "79/79 - 6s - loss: 2.9159e-05 - val_loss: 4.1143e-05\n",
      "Epoch 4/50\n",
      "79/79 - 6s - loss: 2.9163e-05 - val_loss: 4.1359e-05\n",
      "Epoch 5/50\n",
      "79/79 - 6s - loss: 2.9159e-05 - val_loss: 4.1276e-05\n",
      "Epoch 6/50\n",
      "79/79 - 6s - loss: 2.9158e-05 - val_loss: 4.1155e-05\n",
      "Epoch 7/50\n",
      "79/79 - 6s - loss: 2.9158e-05 - val_loss: 4.1297e-05\n",
      "Epoch 8/50\n",
      "79/79 - 6s - loss: 2.9157e-05 - val_loss: 4.1294e-05\n",
      "Epoch 9/50\n",
      "79/79 - 6s - loss: 2.9157e-05 - val_loss: 4.1366e-05\n",
      "Epoch 10/50\n",
      "79/79 - 6s - loss: 2.9153e-05 - val_loss: 4.1208e-05\n",
      "Epoch 11/50\n",
      "79/79 - 6s - loss: 2.9156e-05 - val_loss: 4.1309e-05\n",
      "Epoch 12/50\n",
      "79/79 - 7s - loss: 2.9168e-05 - val_loss: 4.1050e-05\n",
      "Epoch 13/50\n",
      "79/79 - 6s - loss: 2.9159e-05 - val_loss: 4.1222e-05\n",
      "Epoch 14/50\n",
      "79/79 - 6s - loss: 2.9149e-05 - val_loss: 4.1207e-05\n",
      "Epoch 15/50\n",
      "79/79 - 6s - loss: 2.9142e-05 - val_loss: 4.1245e-05\n",
      "Epoch 16/50\n",
      "79/79 - 6s - loss: 2.9139e-05 - val_loss: 4.1077e-05\n",
      "Epoch 17/50\n",
      "79/79 - 6s - loss: 2.9129e-05 - val_loss: 4.1190e-05\n",
      "Epoch 18/50\n",
      "79/79 - 6s - loss: 2.9130e-05 - val_loss: 4.1321e-05\n",
      "Epoch 19/50\n",
      "79/79 - 6s - loss: 2.9128e-05 - val_loss: 4.1408e-05\n",
      "Epoch 20/50\n",
      "79/79 - 6s - loss: 2.9109e-05 - val_loss: 4.0846e-05\n",
      "Epoch 21/50\n",
      "79/79 - 6s - loss: 2.9095e-05 - val_loss: 4.0969e-05\n",
      "Epoch 22/50\n",
      "79/79 - 7s - loss: 2.9074e-05 - val_loss: 4.0992e-05\n",
      "Epoch 23/50\n",
      "79/79 - 6s - loss: 2.9078e-05 - val_loss: 4.1348e-05\n",
      "Epoch 24/50\n",
      "79/79 - 6s - loss: 2.9068e-05 - val_loss: 4.0976e-05\n",
      "Epoch 25/50\n",
      "79/79 - 6s - loss: 2.9047e-05 - val_loss: 4.1423e-05\n",
      "Epoch 26/50\n",
      "79/79 - 6s - loss: 2.9039e-05 - val_loss: 4.0875e-05\n",
      "Epoch 27/50\n",
      "79/79 - 6s - loss: 2.9012e-05 - val_loss: 4.1217e-05\n",
      "Epoch 28/50\n",
      "79/79 - 6s - loss: 2.8985e-05 - val_loss: 4.0858e-05\n",
      "Epoch 29/50\n",
      "79/79 - 6s - loss: 2.8980e-05 - val_loss: 4.1006e-05\n",
      "Epoch 30/50\n",
      "79/79 - 6s - loss: 2.8947e-05 - val_loss: 4.0962e-05\n",
      "Epoch 31/50\n",
      "79/79 - 6s - loss: 2.8921e-05 - val_loss: 4.0614e-05\n",
      "Epoch 32/50\n",
      "79/79 - 6s - loss: 2.8913e-05 - val_loss: 4.0598e-05\n",
      "Epoch 33/50\n",
      "79/79 - 6s - loss: 2.8871e-05 - val_loss: 4.0346e-05\n",
      "Epoch 34/50\n",
      "79/79 - 6s - loss: 2.8834e-05 - val_loss: 4.0606e-05\n",
      "Epoch 35/50\n",
      "79/79 - 6s - loss: 2.8830e-05 - val_loss: 4.0430e-05\n",
      "Epoch 36/50\n",
      "79/79 - 6s - loss: 2.8786e-05 - val_loss: 4.0697e-05\n",
      "Epoch 37/50\n",
      "79/79 - 6s - loss: 2.8769e-05 - val_loss: 4.0186e-05\n",
      "Epoch 38/50\n",
      "79/79 - 6s - loss: 2.8775e-05 - val_loss: 4.0841e-05\n",
      "Epoch 39/50\n",
      "79/79 - 6s - loss: 2.8752e-05 - val_loss: 4.0137e-05\n",
      "Epoch 40/50\n",
      "79/79 - 6s - loss: 2.8731e-05 - val_loss: 4.0401e-05\n",
      "Epoch 41/50\n",
      "79/79 - 6s - loss: 2.8737e-05 - val_loss: 4.1007e-05\n",
      "Epoch 42/50\n",
      "79/79 - 6s - loss: 2.8722e-05 - val_loss: 4.0618e-05\n",
      "Epoch 43/50\n",
      "79/79 - 6s - loss: 2.8702e-05 - val_loss: 4.0349e-05\n",
      "Epoch 44/50\n",
      "79/79 - 6s - loss: 2.8727e-05 - val_loss: 4.0172e-05\n",
      "Epoch 45/50\n",
      "79/79 - 6s - loss: 2.8701e-05 - val_loss: 4.0035e-05\n",
      "Epoch 46/50\n",
      "79/79 - 6s - loss: 2.8693e-05 - val_loss: 4.0079e-05\n",
      "Epoch 47/50\n",
      "79/79 - 6s - loss: 2.8672e-05 - val_loss: 4.0481e-05\n",
      "Epoch 48/50\n",
      "79/79 - 6s - loss: 2.8674e-05 - val_loss: 4.0319e-05\n",
      "Epoch 49/50\n",
      "79/79 - 6s - loss: 2.8673e-05 - val_loss: 4.0053e-05\n",
      "Epoch 50/50\n",
      "79/79 - 6s - loss: 2.8666e-05 - val_loss: 4.0177e-05\n"
     ]
    },
    {
     "data": {
      "text/plain": [
       "<tensorflow.python.keras.callbacks.History at 0x7f2afddebb10>"
      ]
     },
     "execution_count": 66,
     "metadata": {},
     "output_type": "execute_result"
    }
   ],
   "source": [
    "modelt.fit(xtrain,ytrain,validation_data=(xtest,ytest),epochs=50,batch_size=30000,verbose=2)"
   ]
  },
  {
   "cell_type": "code",
   "execution_count": 67,
   "metadata": {
    "execution": {
     "iopub.execute_input": "2020-10-11T04:29:05.302725Z",
     "iopub.status.busy": "2020-10-11T04:29:05.301970Z",
     "iopub.status.idle": "2020-10-11T04:29:05.305948Z",
     "shell.execute_reply": "2020-10-11T04:29:05.306431Z"
    },
    "papermill": {
     "duration": 0.179223,
     "end_time": "2020-10-11T04:29:05.306551",
     "exception": false,
     "start_time": "2020-10-11T04:29:05.127328",
     "status": "completed"
    },
    "tags": []
   },
   "outputs": [
    {
     "data": {
      "text/html": [
       "<div>\n",
       "<style scoped>\n",
       "    .dataframe tbody tr th:only-of-type {\n",
       "        vertical-align: middle;\n",
       "    }\n",
       "\n",
       "    .dataframe tbody tr th {\n",
       "        vertical-align: top;\n",
       "    }\n",
       "\n",
       "    .dataframe thead th {\n",
       "        text-align: right;\n",
       "    }\n",
       "</style>\n",
       "<table border=\"1\" class=\"dataframe\">\n",
       "  <thead>\n",
       "    <tr style=\"text-align: right;\">\n",
       "      <th></th>\n",
       "      <th>ID</th>\n",
       "      <th>shop_id</th>\n",
       "      <th>item_id</th>\n",
       "    </tr>\n",
       "  </thead>\n",
       "  <tbody>\n",
       "    <tr>\n",
       "      <th>0</th>\n",
       "      <td>0</td>\n",
       "      <td>5</td>\n",
       "      <td>5037</td>\n",
       "    </tr>\n",
       "    <tr>\n",
       "      <th>1</th>\n",
       "      <td>1</td>\n",
       "      <td>5</td>\n",
       "      <td>5320</td>\n",
       "    </tr>\n",
       "    <tr>\n",
       "      <th>2</th>\n",
       "      <td>2</td>\n",
       "      <td>5</td>\n",
       "      <td>5233</td>\n",
       "    </tr>\n",
       "    <tr>\n",
       "      <th>3</th>\n",
       "      <td>3</td>\n",
       "      <td>5</td>\n",
       "      <td>5232</td>\n",
       "    </tr>\n",
       "    <tr>\n",
       "      <th>4</th>\n",
       "      <td>4</td>\n",
       "      <td>5</td>\n",
       "      <td>5268</td>\n",
       "    </tr>\n",
       "  </tbody>\n",
       "</table>\n",
       "</div>"
      ],
      "text/plain": [
       "   ID  shop_id  item_id\n",
       "0   0        5     5037\n",
       "1   1        5     5320\n",
       "2   2        5     5233\n",
       "3   3        5     5232\n",
       "4   4        5     5268"
      ]
     },
     "execution_count": 67,
     "metadata": {},
     "output_type": "execute_result"
    }
   ],
   "source": [
    "test.head()"
   ]
  },
  {
   "cell_type": "code",
   "execution_count": 68,
   "metadata": {
    "execution": {
     "iopub.execute_input": "2020-10-11T04:29:05.651167Z",
     "iopub.status.busy": "2020-10-11T04:29:05.649504Z",
     "iopub.status.idle": "2020-10-11T04:29:05.651863Z",
     "shell.execute_reply": "2020-10-11T04:29:05.652391Z"
    },
    "papermill": {
     "duration": 0.178532,
     "end_time": "2020-10-11T04:29:05.652550",
     "exception": false,
     "start_time": "2020-10-11T04:29:05.474018",
     "status": "completed"
    },
    "tags": []
   },
   "outputs": [],
   "source": [
    "test.drop([\"ID\"],axis=1,inplace=True)"
   ]
  },
  {
   "cell_type": "code",
   "execution_count": 69,
   "metadata": {
    "execution": {
     "iopub.execute_input": "2020-10-11T04:29:05.994836Z",
     "iopub.status.busy": "2020-10-11T04:29:05.993108Z",
     "iopub.status.idle": "2020-10-11T04:29:05.995647Z",
     "shell.execute_reply": "2020-10-11T04:29:05.996135Z"
    },
    "papermill": {
     "duration": 0.173184,
     "end_time": "2020-10-11T04:29:05.996296",
     "exception": false,
     "start_time": "2020-10-11T04:29:05.823112",
     "status": "completed"
    },
    "tags": []
   },
   "outputs": [],
   "source": [
    "te=test"
   ]
  },
  {
   "cell_type": "code",
   "execution_count": 70,
   "metadata": {
    "execution": {
     "iopub.execute_input": "2020-10-11T04:29:06.340447Z",
     "iopub.status.busy": "2020-10-11T04:29:06.339448Z",
     "iopub.status.idle": "2020-10-11T04:29:06.345361Z",
     "shell.execute_reply": "2020-10-11T04:29:06.345827Z"
    },
    "papermill": {
     "duration": 0.182802,
     "end_time": "2020-10-11T04:29:06.345962",
     "exception": false,
     "start_time": "2020-10-11T04:29:06.163160",
     "status": "completed"
    },
    "tags": []
   },
   "outputs": [],
   "source": [
    "scalll=scale.fit(test.values)\n",
    "w=scalll.transform(test.values)"
   ]
  },
  {
   "cell_type": "code",
   "execution_count": 71,
   "metadata": {
    "execution": {
     "iopub.execute_input": "2020-10-11T04:29:06.684861Z",
     "iopub.status.busy": "2020-10-11T04:29:06.683954Z",
     "iopub.status.idle": "2020-10-11T04:29:06.689067Z",
     "shell.execute_reply": "2020-10-11T04:29:06.689567Z"
    },
    "papermill": {
     "duration": 0.17746,
     "end_time": "2020-10-11T04:29:06.690035",
     "exception": false,
     "start_time": "2020-10-11T04:29:06.512575",
     "status": "completed"
    },
    "tags": []
   },
   "outputs": [
    {
     "data": {
      "text/plain": [
       "array([[0.05263158, 0.22618241],\n",
       "       [0.05263158, 0.23896644],\n",
       "       [0.05263158, 0.23503636],\n",
       "       ...,\n",
       "       [0.75438596, 0.71043954],\n",
       "       [0.75438596, 0.88620861],\n",
       "       [0.75438596, 0.04241767]])"
      ]
     },
     "execution_count": 71,
     "metadata": {},
     "output_type": "execute_result"
    }
   ],
   "source": [
    "w"
   ]
  },
  {
   "cell_type": "code",
   "execution_count": 72,
   "metadata": {
    "execution": {
     "iopub.execute_input": "2020-10-11T04:29:07.067539Z",
     "iopub.status.busy": "2020-10-11T04:29:07.065690Z",
     "iopub.status.idle": "2020-10-11T04:29:07.068260Z",
     "shell.execute_reply": "2020-10-11T04:29:07.068722Z"
    },
    "papermill": {
     "duration": 0.196236,
     "end_time": "2020-10-11T04:29:07.068843",
     "exception": false,
     "start_time": "2020-10-11T04:29:06.872607",
     "status": "completed"
    },
    "tags": []
   },
   "outputs": [],
   "source": [
    "w=w.reshape(w.shape[0], w.shape[1], 1)"
   ]
  },
  {
   "cell_type": "markdown",
   "metadata": {
    "papermill": {
     "duration": 0.16774,
     "end_time": "2020-10-11T04:29:07.415059",
     "exception": false,
     "start_time": "2020-10-11T04:29:07.247319",
     "status": "completed"
    },
    "tags": []
   },
   "source": [
    "Point to notice that we our feeding our test data to our item predicting model so we need to convert that into 3D Because our LSTM model only needs 3d Input"
   ]
  },
  {
   "cell_type": "code",
   "execution_count": 73,
   "metadata": {
    "execution": {
     "iopub.execute_input": "2020-10-11T04:29:07.755962Z",
     "iopub.status.busy": "2020-10-11T04:29:07.755111Z",
     "iopub.status.idle": "2020-10-11T04:29:25.300302Z",
     "shell.execute_reply": "2020-10-11T04:29:25.298913Z"
    },
    "papermill": {
     "duration": 17.718835,
     "end_time": "2020-10-11T04:29:25.300468",
     "exception": false,
     "start_time": "2020-10-11T04:29:07.581633",
     "status": "completed"
    },
    "tags": []
   },
   "outputs": [],
   "source": [
    "y_pred=modelt.predict(w)"
   ]
  },
  {
   "cell_type": "code",
   "execution_count": 74,
   "metadata": {
    "execution": {
     "iopub.execute_input": "2020-10-11T04:29:25.666513Z",
     "iopub.status.busy": "2020-10-11T04:29:25.664280Z",
     "iopub.status.idle": "2020-10-11T04:29:25.669688Z",
     "shell.execute_reply": "2020-10-11T04:29:25.668994Z"
    },
    "papermill": {
     "duration": 0.189212,
     "end_time": "2020-10-11T04:29:25.669799",
     "exception": false,
     "start_time": "2020-10-11T04:29:25.480587",
     "status": "completed"
    },
    "tags": []
   },
   "outputs": [
    {
     "data": {
      "text/plain": [
       "array([[0.00344023],\n",
       "       [0.00344314],\n",
       "       [0.00344232],\n",
       "       ...,\n",
       "       [0.00208091],\n",
       "       [0.00185093],\n",
       "       [0.00374713]], dtype=float32)"
      ]
     },
     "execution_count": 74,
     "metadata": {},
     "output_type": "execute_result"
    }
   ],
   "source": [
    "y_pred"
   ]
  },
  {
   "cell_type": "code",
   "execution_count": 75,
   "metadata": {
    "execution": {
     "iopub.execute_input": "2020-10-11T04:29:26.057900Z",
     "iopub.status.busy": "2020-10-11T04:29:26.056826Z",
     "iopub.status.idle": "2020-10-11T04:29:26.083141Z",
     "shell.execute_reply": "2020-10-11T04:29:26.082597Z"
    },
    "papermill": {
     "duration": 0.212009,
     "end_time": "2020-10-11T04:29:26.083274",
     "exception": false,
     "start_time": "2020-10-11T04:29:25.871265",
     "status": "completed"
    },
    "tags": []
   },
   "outputs": [],
   "source": [
    "scalerr=scale.fit(yyy)\n",
    "wewe=scalerr.transform(yyy)"
   ]
  },
  {
   "cell_type": "markdown",
   "metadata": {
    "papermill": {
     "duration": 0.178342,
     "end_time": "2020-10-11T04:29:26.445574",
     "exception": false,
     "start_time": "2020-10-11T04:29:26.267232",
     "status": "completed"
    },
    "tags": []
   },
   "source": [
    "Remember the above scalerr it gonna used as transfoming function(if have just repeated the above code to avaid any confusion)"
   ]
  },
  {
   "cell_type": "code",
   "execution_count": 76,
   "metadata": {
    "execution": {
     "iopub.execute_input": "2020-10-11T04:29:26.947297Z",
     "iopub.status.busy": "2020-10-11T04:29:26.946382Z",
     "iopub.status.idle": "2020-10-11T04:29:26.951164Z",
     "shell.execute_reply": "2020-10-11T04:29:26.952015Z"
    },
    "papermill": {
     "duration": 0.256436,
     "end_time": "2020-10-11T04:29:26.952229",
     "exception": false,
     "start_time": "2020-10-11T04:29:26.695793",
     "status": "completed"
    },
    "tags": []
   },
   "outputs": [],
   "source": [
    "y_pred=scalerr.inverse_transform(y_pred)"
   ]
  },
  {
   "cell_type": "code",
   "execution_count": 77,
   "metadata": {
    "execution": {
     "iopub.execute_input": "2020-10-11T04:29:27.552220Z",
     "iopub.status.busy": "2020-10-11T04:29:27.548829Z",
     "iopub.status.idle": "2020-10-11T04:29:27.555751Z",
     "shell.execute_reply": "2020-10-11T04:29:27.554792Z"
    },
    "papermill": {
     "duration": 0.287124,
     "end_time": "2020-10-11T04:29:27.555910",
     "exception": false,
     "start_time": "2020-10-11T04:29:27.268786",
     "status": "completed"
    },
    "tags": []
   },
   "outputs": [
    {
     "data": {
      "text/plain": [
       "array([[1058.5251 ],\n",
       "       [1059.4225 ],\n",
       "       [1059.1681 ],\n",
       "       ...,\n",
       "       [ 639.87933],\n",
       "       [ 569.0506 ],\n",
       "       [1153.0436 ]], dtype=float32)"
      ]
     },
     "execution_count": 77,
     "metadata": {},
     "output_type": "execute_result"
    }
   ],
   "source": [
    "y_pred"
   ]
  },
  {
   "cell_type": "code",
   "execution_count": 78,
   "metadata": {
    "execution": {
     "iopub.execute_input": "2020-10-11T04:29:28.001661Z",
     "iopub.status.busy": "2020-10-11T04:29:28.000857Z",
     "iopub.status.idle": "2020-10-11T04:29:28.004943Z",
     "shell.execute_reply": "2020-10-11T04:29:28.005498Z"
    },
    "papermill": {
     "duration": 0.216345,
     "end_time": "2020-10-11T04:29:28.005634",
     "exception": false,
     "start_time": "2020-10-11T04:29:27.789289",
     "status": "completed"
    },
    "tags": []
   },
   "outputs": [
    {
     "data": {
      "text/html": [
       "<div>\n",
       "<style scoped>\n",
       "    .dataframe tbody tr th:only-of-type {\n",
       "        vertical-align: middle;\n",
       "    }\n",
       "\n",
       "    .dataframe tbody tr th {\n",
       "        vertical-align: top;\n",
       "    }\n",
       "\n",
       "    .dataframe thead th {\n",
       "        text-align: right;\n",
       "    }\n",
       "</style>\n",
       "<table border=\"1\" class=\"dataframe\">\n",
       "  <thead>\n",
       "    <tr style=\"text-align: right;\">\n",
       "      <th></th>\n",
       "      <th>shop_id</th>\n",
       "      <th>item_id</th>\n",
       "    </tr>\n",
       "  </thead>\n",
       "  <tbody>\n",
       "    <tr>\n",
       "      <th>0</th>\n",
       "      <td>5</td>\n",
       "      <td>5037</td>\n",
       "    </tr>\n",
       "    <tr>\n",
       "      <th>1</th>\n",
       "      <td>5</td>\n",
       "      <td>5320</td>\n",
       "    </tr>\n",
       "    <tr>\n",
       "      <th>2</th>\n",
       "      <td>5</td>\n",
       "      <td>5233</td>\n",
       "    </tr>\n",
       "    <tr>\n",
       "      <th>3</th>\n",
       "      <td>5</td>\n",
       "      <td>5232</td>\n",
       "    </tr>\n",
       "    <tr>\n",
       "      <th>4</th>\n",
       "      <td>5</td>\n",
       "      <td>5268</td>\n",
       "    </tr>\n",
       "    <tr>\n",
       "      <th>...</th>\n",
       "      <td>...</td>\n",
       "      <td>...</td>\n",
       "    </tr>\n",
       "    <tr>\n",
       "      <th>214195</th>\n",
       "      <td>45</td>\n",
       "      <td>18454</td>\n",
       "    </tr>\n",
       "    <tr>\n",
       "      <th>214196</th>\n",
       "      <td>45</td>\n",
       "      <td>16188</td>\n",
       "    </tr>\n",
       "    <tr>\n",
       "      <th>214197</th>\n",
       "      <td>45</td>\n",
       "      <td>15757</td>\n",
       "    </tr>\n",
       "    <tr>\n",
       "      <th>214198</th>\n",
       "      <td>45</td>\n",
       "      <td>19648</td>\n",
       "    </tr>\n",
       "    <tr>\n",
       "      <th>214199</th>\n",
       "      <td>45</td>\n",
       "      <td>969</td>\n",
       "    </tr>\n",
       "  </tbody>\n",
       "</table>\n",
       "<p>214200 rows × 2 columns</p>\n",
       "</div>"
      ],
      "text/plain": [
       "        shop_id  item_id\n",
       "0             5     5037\n",
       "1             5     5320\n",
       "2             5     5233\n",
       "3             5     5232\n",
       "4             5     5268\n",
       "...         ...      ...\n",
       "214195       45    18454\n",
       "214196       45    16188\n",
       "214197       45    15757\n",
       "214198       45    19648\n",
       "214199       45      969\n",
       "\n",
       "[214200 rows x 2 columns]"
      ]
     },
     "execution_count": 78,
     "metadata": {},
     "output_type": "execute_result"
    }
   ],
   "source": [
    "test"
   ]
  },
  {
   "cell_type": "code",
   "execution_count": 79,
   "metadata": {
    "execution": {
     "iopub.execute_input": "2020-10-11T04:29:28.380282Z",
     "iopub.status.busy": "2020-10-11T04:29:28.378799Z",
     "iopub.status.idle": "2020-10-11T04:29:28.383000Z",
     "shell.execute_reply": "2020-10-11T04:29:28.382521Z"
    },
    "papermill": {
     "duration": 0.193627,
     "end_time": "2020-10-11T04:29:28.383100",
     "exception": false,
     "start_time": "2020-10-11T04:29:28.189473",
     "status": "completed"
    },
    "tags": []
   },
   "outputs": [
    {
     "data": {
      "text/plain": [
       "214200"
      ]
     },
     "execution_count": 79,
     "metadata": {},
     "output_type": "execute_result"
    }
   ],
   "source": [
    "len(y_pred)"
   ]
  },
  {
   "cell_type": "code",
   "execution_count": 80,
   "metadata": {
    "execution": {
     "iopub.execute_input": "2020-10-11T04:29:28.745321Z",
     "iopub.status.busy": "2020-10-11T04:29:28.743288Z",
     "iopub.status.idle": "2020-10-11T04:29:28.748919Z",
     "shell.execute_reply": "2020-10-11T04:29:28.748323Z"
    },
    "papermill": {
     "duration": 0.187254,
     "end_time": "2020-10-11T04:29:28.749027",
     "exception": false,
     "start_time": "2020-10-11T04:29:28.561773",
     "status": "completed"
    },
    "tags": []
   },
   "outputs": [],
   "source": [
    "test[\"wewe\"]=y_pred"
   ]
  },
  {
   "cell_type": "markdown",
   "metadata": {
    "papermill": {
     "duration": 0.179789,
     "end_time": "2020-10-11T04:29:29.108141",
     "exception": false,
     "start_time": "2020-10-11T04:29:28.928352",
     "status": "completed"
    },
    "tags": []
   },
   "source": [
    "finally \"wewe\" feature contain all of our item_price value for out test data"
   ]
  },
  {
   "cell_type": "code",
   "execution_count": 81,
   "metadata": {
    "execution": {
     "iopub.execute_input": "2020-10-11T04:29:29.490471Z",
     "iopub.status.busy": "2020-10-11T04:29:29.489500Z",
     "iopub.status.idle": "2020-10-11T04:29:29.493837Z",
     "shell.execute_reply": "2020-10-11T04:29:29.494418Z"
    },
    "papermill": {
     "duration": 0.202526,
     "end_time": "2020-10-11T04:29:29.494552",
     "exception": false,
     "start_time": "2020-10-11T04:29:29.292026",
     "status": "completed"
    },
    "tags": []
   },
   "outputs": [
    {
     "data": {
      "text/html": [
       "<div>\n",
       "<style scoped>\n",
       "    .dataframe tbody tr th:only-of-type {\n",
       "        vertical-align: middle;\n",
       "    }\n",
       "\n",
       "    .dataframe tbody tr th {\n",
       "        vertical-align: top;\n",
       "    }\n",
       "\n",
       "    .dataframe thead th {\n",
       "        text-align: right;\n",
       "    }\n",
       "</style>\n",
       "<table border=\"1\" class=\"dataframe\">\n",
       "  <thead>\n",
       "    <tr style=\"text-align: right;\">\n",
       "      <th></th>\n",
       "      <th>shop_id</th>\n",
       "      <th>item_id</th>\n",
       "      <th>wewe</th>\n",
       "    </tr>\n",
       "  </thead>\n",
       "  <tbody>\n",
       "    <tr>\n",
       "      <th>0</th>\n",
       "      <td>5</td>\n",
       "      <td>5037</td>\n",
       "      <td>1058.525146</td>\n",
       "    </tr>\n",
       "    <tr>\n",
       "      <th>1</th>\n",
       "      <td>5</td>\n",
       "      <td>5320</td>\n",
       "      <td>1059.422485</td>\n",
       "    </tr>\n",
       "    <tr>\n",
       "      <th>2</th>\n",
       "      <td>5</td>\n",
       "      <td>5233</td>\n",
       "      <td>1059.168091</td>\n",
       "    </tr>\n",
       "    <tr>\n",
       "      <th>3</th>\n",
       "      <td>5</td>\n",
       "      <td>5232</td>\n",
       "      <td>1059.165161</td>\n",
       "    </tr>\n",
       "    <tr>\n",
       "      <th>4</th>\n",
       "      <td>5</td>\n",
       "      <td>5268</td>\n",
       "      <td>1059.270386</td>\n",
       "    </tr>\n",
       "    <tr>\n",
       "      <th>...</th>\n",
       "      <td>...</td>\n",
       "      <td>...</td>\n",
       "      <td>...</td>\n",
       "    </tr>\n",
       "    <tr>\n",
       "      <th>214195</th>\n",
       "      <td>45</td>\n",
       "      <td>18454</td>\n",
       "      <td>581.648071</td>\n",
       "    </tr>\n",
       "    <tr>\n",
       "      <th>214196</th>\n",
       "      <td>45</td>\n",
       "      <td>16188</td>\n",
       "      <td>625.873901</td>\n",
       "    </tr>\n",
       "    <tr>\n",
       "      <th>214197</th>\n",
       "      <td>45</td>\n",
       "      <td>15757</td>\n",
       "      <td>639.879333</td>\n",
       "    </tr>\n",
       "    <tr>\n",
       "      <th>214198</th>\n",
       "      <td>45</td>\n",
       "      <td>19648</td>\n",
       "      <td>569.050598</td>\n",
       "    </tr>\n",
       "    <tr>\n",
       "      <th>214199</th>\n",
       "      <td>45</td>\n",
       "      <td>969</td>\n",
       "      <td>1153.043579</td>\n",
       "    </tr>\n",
       "  </tbody>\n",
       "</table>\n",
       "<p>214200 rows × 3 columns</p>\n",
       "</div>"
      ],
      "text/plain": [
       "        shop_id  item_id         wewe\n",
       "0             5     5037  1058.525146\n",
       "1             5     5320  1059.422485\n",
       "2             5     5233  1059.168091\n",
       "3             5     5232  1059.165161\n",
       "4             5     5268  1059.270386\n",
       "...         ...      ...          ...\n",
       "214195       45    18454   581.648071\n",
       "214196       45    16188   625.873901\n",
       "214197       45    15757   639.879333\n",
       "214198       45    19648   569.050598\n",
       "214199       45      969  1153.043579\n",
       "\n",
       "[214200 rows x 3 columns]"
      ]
     },
     "execution_count": 81,
     "metadata": {},
     "output_type": "execute_result"
    }
   ],
   "source": [
    "test"
   ]
  },
  {
   "cell_type": "markdown",
   "metadata": {
    "papermill": {
     "duration": 0.190462,
     "end_time": "2020-10-11T04:29:29.876519",
     "exception": false,
     "start_time": "2020-10-11T04:29:29.686057",
     "status": "completed"
    },
    "tags": []
   },
   "source": [
    "# Final Data Transformation"
   ]
  },
  {
   "cell_type": "code",
   "execution_count": 82,
   "metadata": {
    "execution": {
     "iopub.execute_input": "2020-10-11T04:29:30.257255Z",
     "iopub.status.busy": "2020-10-11T04:29:30.256131Z",
     "iopub.status.idle": "2020-10-11T04:29:30.266932Z",
     "shell.execute_reply": "2020-10-11T04:29:30.266417Z"
    },
    "papermill": {
     "duration": 0.196322,
     "end_time": "2020-10-11T04:29:30.267040",
     "exception": false,
     "start_time": "2020-10-11T04:29:30.070718",
     "status": "completed"
    },
    "tags": []
   },
   "outputs": [],
   "source": [
    "scalert=scale.fit(test.values)\n",
    "wewe=scalert.transform(test.values)"
   ]
  },
  {
   "cell_type": "markdown",
   "metadata": {
    "papermill": {
     "duration": 0.177942,
     "end_time": "2020-10-11T04:29:30.621581",
     "exception": false,
     "start_time": "2020-10-11T04:29:30.443639",
     "status": "completed"
    },
    "tags": []
   },
   "source": [
    "here wewe contains all our 2d normalize test values"
   ]
  },
  {
   "cell_type": "code",
   "execution_count": 83,
   "metadata": {
    "execution": {
     "iopub.execute_input": "2020-10-11T04:29:30.983049Z",
     "iopub.status.busy": "2020-10-11T04:29:30.982124Z",
     "iopub.status.idle": "2020-10-11T04:29:30.986537Z",
     "shell.execute_reply": "2020-10-11T04:29:30.987088Z"
    },
    "papermill": {
     "duration": 0.189417,
     "end_time": "2020-10-11T04:29:30.987244",
     "exception": false,
     "start_time": "2020-10-11T04:29:30.797827",
     "status": "completed"
    },
    "tags": []
   },
   "outputs": [
    {
     "data": {
      "text/plain": [
       "array([[0.05263158, 0.22618241, 0.84218853],\n",
       "       [0.05263158, 0.23896644, 0.84364233],\n",
       "       [0.05263158, 0.23503636, 0.84323018],\n",
       "       ...,\n",
       "       [0.75438596, 0.71043954, 0.16393348],\n",
       "       [0.75438596, 0.88620861, 0.04918266],\n",
       "       [0.75438596, 0.04241767, 0.99531942]])"
      ]
     },
     "execution_count": 83,
     "metadata": {},
     "output_type": "execute_result"
    }
   ],
   "source": [
    "wewe"
   ]
  },
  {
   "cell_type": "code",
   "execution_count": 84,
   "metadata": {
    "execution": {
     "iopub.execute_input": "2020-10-11T04:29:31.385525Z",
     "iopub.status.busy": "2020-10-11T04:29:31.384418Z",
     "iopub.status.idle": "2020-10-11T04:29:31.386512Z",
     "shell.execute_reply": "2020-10-11T04:29:31.387025Z"
    },
    "papermill": {
     "duration": 0.203824,
     "end_time": "2020-10-11T04:29:31.387159",
     "exception": false,
     "start_time": "2020-10-11T04:29:31.183335",
     "status": "completed"
    },
    "tags": []
   },
   "outputs": [],
   "source": [
    "y_prrr=wewe.reshape(wewe.shape[0], wewe.shape[1], 1)"
   ]
  },
  {
   "cell_type": "code",
   "execution_count": 85,
   "metadata": {
    "execution": {
     "iopub.execute_input": "2020-10-11T04:29:31.745455Z",
     "iopub.status.busy": "2020-10-11T04:29:31.744480Z",
     "iopub.status.idle": "2020-10-11T04:29:51.160847Z",
     "shell.execute_reply": "2020-10-11T04:29:51.161416Z"
    },
    "papermill": {
     "duration": 19.597666,
     "end_time": "2020-10-11T04:29:51.161587",
     "exception": false,
     "start_time": "2020-10-11T04:29:31.563921",
     "status": "completed"
    },
    "tags": []
   },
   "outputs": [],
   "source": [
    "y_predict=model.predict(y_prrr)"
   ]
  },
  {
   "cell_type": "markdown",
   "metadata": {
    "papermill": {
     "duration": 0.170006,
     "end_time": "2020-10-11T04:29:51.502586",
     "exception": false,
     "start_time": "2020-10-11T04:29:51.332580",
     "status": "completed"
    },
    "tags": []
   },
   "source": [
    "Note here \"model\" is tha model which we build first"
   ]
  },
  {
   "cell_type": "code",
   "execution_count": 86,
   "metadata": {
    "execution": {
     "iopub.execute_input": "2020-10-11T04:29:51.850467Z",
     "iopub.status.busy": "2020-10-11T04:29:51.849707Z",
     "iopub.status.idle": "2020-10-11T04:29:51.856313Z",
     "shell.execute_reply": "2020-10-11T04:29:51.856743Z"
    },
    "papermill": {
     "duration": 0.182249,
     "end_time": "2020-10-11T04:29:51.856883",
     "exception": false,
     "start_time": "2020-10-11T04:29:51.674634",
     "status": "completed"
    },
    "tags": []
   },
   "outputs": [
    {
     "data": {
      "text/plain": [
       "array([[0.01057946],\n",
       "       [0.01057947],\n",
       "       [0.01057947],\n",
       "       ...,\n",
       "       [0.01058775],\n",
       "       [0.01058979],\n",
       "       [0.01058421]], dtype=float32)"
      ]
     },
     "execution_count": 86,
     "metadata": {},
     "output_type": "execute_result"
    }
   ],
   "source": [
    "y_predict"
   ]
  },
  {
   "cell_type": "code",
   "execution_count": 87,
   "metadata": {
    "execution": {
     "iopub.execute_input": "2020-10-11T04:29:52.215393Z",
     "iopub.status.busy": "2020-10-11T04:29:52.214137Z",
     "iopub.status.idle": "2020-10-11T04:29:52.235131Z",
     "shell.execute_reply": "2020-10-11T04:29:52.234624Z"
    },
    "papermill": {
     "duration": 0.195408,
     "end_time": "2020-10-11T04:29:52.235260",
     "exception": false,
     "start_time": "2020-10-11T04:29:52.039852",
     "status": "completed"
    },
    "tags": []
   },
   "outputs": [],
   "source": [
    "scaler=scale.fit(yy)\n",
    "qq=scaler.transform(yy)"
   ]
  },
  {
   "cell_type": "markdown",
   "metadata": {
    "papermill": {
     "duration": 0.171593,
     "end_time": "2020-10-11T04:29:52.577711",
     "exception": false,
     "start_time": "2020-10-11T04:29:52.406118",
     "status": "completed"
    },
    "tags": []
   },
   "source": [
    "The above code is that scaler which firstly transform the label(i have repeated that code again to avoid any confusion)"
   ]
  },
  {
   "cell_type": "code",
   "execution_count": 88,
   "metadata": {
    "execution": {
     "iopub.execute_input": "2020-10-11T04:29:52.927833Z",
     "iopub.status.busy": "2020-10-11T04:29:52.926910Z",
     "iopub.status.idle": "2020-10-11T04:29:52.932537Z",
     "shell.execute_reply": "2020-10-11T04:29:52.931929Z"
    },
    "papermill": {
     "duration": 0.181153,
     "end_time": "2020-10-11T04:29:52.932641",
     "exception": false,
     "start_time": "2020-10-11T04:29:52.751488",
     "status": "completed"
    },
    "tags": []
   },
   "outputs": [],
   "source": [
    "y_predict=scaler.inverse_transform(y_predict)"
   ]
  },
  {
   "cell_type": "code",
   "execution_count": 89,
   "metadata": {
    "execution": {
     "iopub.execute_input": "2020-10-11T04:29:53.285818Z",
     "iopub.status.busy": "2020-10-11T04:29:53.284245Z",
     "iopub.status.idle": "2020-10-11T04:29:53.288541Z",
     "shell.execute_reply": "2020-10-11T04:29:53.288003Z"
    },
    "papermill": {
     "duration": 0.184405,
     "end_time": "2020-10-11T04:29:53.288651",
     "exception": false,
     "start_time": "2020-10-11T04:29:53.104246",
     "status": "completed"
    },
    "tags": []
   },
   "outputs": [
    {
     "data": {
      "text/plain": [
       "array([[1.1796036],\n",
       "       [1.1796159],\n",
       "       [1.1796118],\n",
       "       ...,\n",
       "       [1.1977643],\n",
       "       [1.202231 ],\n",
       "       [1.189994 ]], dtype=float32)"
      ]
     },
     "execution_count": 89,
     "metadata": {},
     "output_type": "execute_result"
    }
   ],
   "source": [
    "y_predict"
   ]
  },
  {
   "cell_type": "markdown",
   "metadata": {
    "papermill": {
     "duration": 0.170527,
     "end_time": "2020-10-11T04:29:53.643887",
     "exception": false,
     "start_time": "2020-10-11T04:29:53.473360",
     "status": "completed"
    },
    "tags": []
   },
   "source": [
    "Hurrah!we have got our final output in y-predict,now we will convert it into dataframe and set it for submission"
   ]
  },
  {
   "cell_type": "code",
   "execution_count": 90,
   "metadata": {
    "execution": {
     "iopub.execute_input": "2020-10-11T04:29:54.081038Z",
     "iopub.status.busy": "2020-10-11T04:29:54.080215Z",
     "iopub.status.idle": "2020-10-11T04:29:54.155898Z",
     "shell.execute_reply": "2020-10-11T04:29:54.154591Z"
    },
    "papermill": {
     "duration": 0.332716,
     "end_time": "2020-10-11T04:29:54.156045",
     "exception": false,
     "start_time": "2020-10-11T04:29:53.823329",
     "status": "completed"
    },
    "tags": []
   },
   "outputs": [],
   "source": [
    "submission=pd.read_csv(\"/kaggle/input/competitive-data-science-predict-future-sales/sample_submission.csv\")"
   ]
  },
  {
   "cell_type": "code",
   "execution_count": 91,
   "metadata": {
    "execution": {
     "iopub.execute_input": "2020-10-11T04:29:54.616511Z",
     "iopub.status.busy": "2020-10-11T04:29:54.615337Z",
     "iopub.status.idle": "2020-10-11T04:29:54.619809Z",
     "shell.execute_reply": "2020-10-11T04:29:54.619301Z"
    },
    "papermill": {
     "duration": 0.211,
     "end_time": "2020-10-11T04:29:54.619920",
     "exception": false,
     "start_time": "2020-10-11T04:29:54.408920",
     "status": "completed"
    },
    "tags": []
   },
   "outputs": [
    {
     "data": {
      "text/html": [
       "<div>\n",
       "<style scoped>\n",
       "    .dataframe tbody tr th:only-of-type {\n",
       "        vertical-align: middle;\n",
       "    }\n",
       "\n",
       "    .dataframe tbody tr th {\n",
       "        vertical-align: top;\n",
       "    }\n",
       "\n",
       "    .dataframe thead th {\n",
       "        text-align: right;\n",
       "    }\n",
       "</style>\n",
       "<table border=\"1\" class=\"dataframe\">\n",
       "  <thead>\n",
       "    <tr style=\"text-align: right;\">\n",
       "      <th></th>\n",
       "      <th>ID</th>\n",
       "      <th>item_cnt_month</th>\n",
       "    </tr>\n",
       "  </thead>\n",
       "  <tbody>\n",
       "    <tr>\n",
       "      <th>0</th>\n",
       "      <td>0</td>\n",
       "      <td>0.5</td>\n",
       "    </tr>\n",
       "    <tr>\n",
       "      <th>1</th>\n",
       "      <td>1</td>\n",
       "      <td>0.5</td>\n",
       "    </tr>\n",
       "    <tr>\n",
       "      <th>2</th>\n",
       "      <td>2</td>\n",
       "      <td>0.5</td>\n",
       "    </tr>\n",
       "    <tr>\n",
       "      <th>3</th>\n",
       "      <td>3</td>\n",
       "      <td>0.5</td>\n",
       "    </tr>\n",
       "    <tr>\n",
       "      <th>4</th>\n",
       "      <td>4</td>\n",
       "      <td>0.5</td>\n",
       "    </tr>\n",
       "    <tr>\n",
       "      <th>...</th>\n",
       "      <td>...</td>\n",
       "      <td>...</td>\n",
       "    </tr>\n",
       "    <tr>\n",
       "      <th>214195</th>\n",
       "      <td>214195</td>\n",
       "      <td>0.5</td>\n",
       "    </tr>\n",
       "    <tr>\n",
       "      <th>214196</th>\n",
       "      <td>214196</td>\n",
       "      <td>0.5</td>\n",
       "    </tr>\n",
       "    <tr>\n",
       "      <th>214197</th>\n",
       "      <td>214197</td>\n",
       "      <td>0.5</td>\n",
       "    </tr>\n",
       "    <tr>\n",
       "      <th>214198</th>\n",
       "      <td>214198</td>\n",
       "      <td>0.5</td>\n",
       "    </tr>\n",
       "    <tr>\n",
       "      <th>214199</th>\n",
       "      <td>214199</td>\n",
       "      <td>0.5</td>\n",
       "    </tr>\n",
       "  </tbody>\n",
       "</table>\n",
       "<p>214200 rows × 2 columns</p>\n",
       "</div>"
      ],
      "text/plain": [
       "            ID  item_cnt_month\n",
       "0            0             0.5\n",
       "1            1             0.5\n",
       "2            2             0.5\n",
       "3            3             0.5\n",
       "4            4             0.5\n",
       "...        ...             ...\n",
       "214195  214195             0.5\n",
       "214196  214196             0.5\n",
       "214197  214197             0.5\n",
       "214198  214198             0.5\n",
       "214199  214199             0.5\n",
       "\n",
       "[214200 rows x 2 columns]"
      ]
     },
     "execution_count": 91,
     "metadata": {},
     "output_type": "execute_result"
    }
   ],
   "source": [
    "submission"
   ]
  },
  {
   "cell_type": "code",
   "execution_count": 92,
   "metadata": {
    "execution": {
     "iopub.execute_input": "2020-10-11T04:29:55.026967Z",
     "iopub.status.busy": "2020-10-11T04:29:55.026208Z",
     "iopub.status.idle": "2020-10-11T04:29:55.029599Z",
     "shell.execute_reply": "2020-10-11T04:29:55.030026Z"
    },
    "papermill": {
     "duration": 0.209695,
     "end_time": "2020-10-11T04:29:55.030164",
     "exception": false,
     "start_time": "2020-10-11T04:29:54.820469",
     "status": "completed"
    },
    "tags": []
   },
   "outputs": [],
   "source": [
    "pred=y_predict.flatten()"
   ]
  },
  {
   "cell_type": "code",
   "execution_count": 93,
   "metadata": {
    "execution": {
     "iopub.execute_input": "2020-10-11T04:29:55.430475Z",
     "iopub.status.busy": "2020-10-11T04:29:55.420302Z",
     "iopub.status.idle": "2020-10-11T04:29:55.929773Z",
     "shell.execute_reply": "2020-10-11T04:29:55.929228Z"
    },
    "papermill": {
     "duration": 0.702117,
     "end_time": "2020-10-11T04:29:55.929887",
     "exception": false,
     "start_time": "2020-10-11T04:29:55.227770",
     "status": "completed"
    },
    "tags": []
   },
   "outputs": [],
   "source": [
    "for i in range(214200):\n",
    "    pred[i]=round(pred[i])"
   ]
  },
  {
   "cell_type": "code",
   "execution_count": 94,
   "metadata": {
    "execution": {
     "iopub.execute_input": "2020-10-11T04:29:56.287230Z",
     "iopub.status.busy": "2020-10-11T04:29:56.285700Z",
     "iopub.status.idle": "2020-10-11T04:29:56.289666Z",
     "shell.execute_reply": "2020-10-11T04:29:56.290300Z"
    },
    "papermill": {
     "duration": 0.184661,
     "end_time": "2020-10-11T04:29:56.290465",
     "exception": false,
     "start_time": "2020-10-11T04:29:56.105804",
     "status": "completed"
    },
    "tags": []
   },
   "outputs": [
    {
     "data": {
      "text/plain": [
       "array([1., 1., 1., ..., 1., 1., 1.], dtype=float32)"
      ]
     },
     "execution_count": 94,
     "metadata": {},
     "output_type": "execute_result"
    }
   ],
   "source": [
    "pred"
   ]
  },
  {
   "cell_type": "code",
   "execution_count": 95,
   "metadata": {
    "execution": {
     "iopub.execute_input": "2020-10-11T04:29:56.704872Z",
     "iopub.status.busy": "2020-10-11T04:29:56.703882Z",
     "iopub.status.idle": "2020-10-11T04:29:56.707160Z",
     "shell.execute_reply": "2020-10-11T04:29:56.706500Z"
    },
    "papermill": {
     "duration": 0.21897,
     "end_time": "2020-10-11T04:29:56.707302",
     "exception": false,
     "start_time": "2020-10-11T04:29:56.488332",
     "status": "completed"
    },
    "tags": []
   },
   "outputs": [],
   "source": [
    "r = pd.Series(pred,name=\"item_cnt_month\")"
   ]
  },
  {
   "cell_type": "code",
   "execution_count": 96,
   "metadata": {
    "execution": {
     "iopub.execute_input": "2020-10-11T04:29:57.097341Z",
     "iopub.status.busy": "2020-10-11T04:29:57.096049Z",
     "iopub.status.idle": "2020-10-11T04:29:57.101221Z",
     "shell.execute_reply": "2020-10-11T04:29:57.101799Z"
    },
    "papermill": {
     "duration": 0.20256,
     "end_time": "2020-10-11T04:29:57.101921",
     "exception": false,
     "start_time": "2020-10-11T04:29:56.899361",
     "status": "completed"
    },
    "tags": []
   },
   "outputs": [],
   "source": [
    "submiss = pd.concat([pd.Series(range(0,214200),name = \"ID\"),r],axis = 1)"
   ]
  },
  {
   "cell_type": "code",
   "execution_count": 97,
   "metadata": {
    "execution": {
     "iopub.execute_input": "2020-10-11T04:29:57.472704Z",
     "iopub.status.busy": "2020-10-11T04:29:57.471697Z",
     "iopub.status.idle": "2020-10-11T04:29:57.476687Z",
     "shell.execute_reply": "2020-10-11T04:29:57.475989Z"
    },
    "papermill": {
     "duration": 0.193578,
     "end_time": "2020-10-11T04:29:57.476924",
     "exception": false,
     "start_time": "2020-10-11T04:29:57.283346",
     "status": "completed"
    },
    "tags": []
   },
   "outputs": [
    {
     "data": {
      "text/html": [
       "<div>\n",
       "<style scoped>\n",
       "    .dataframe tbody tr th:only-of-type {\n",
       "        vertical-align: middle;\n",
       "    }\n",
       "\n",
       "    .dataframe tbody tr th {\n",
       "        vertical-align: top;\n",
       "    }\n",
       "\n",
       "    .dataframe thead th {\n",
       "        text-align: right;\n",
       "    }\n",
       "</style>\n",
       "<table border=\"1\" class=\"dataframe\">\n",
       "  <thead>\n",
       "    <tr style=\"text-align: right;\">\n",
       "      <th></th>\n",
       "      <th>ID</th>\n",
       "      <th>item_cnt_month</th>\n",
       "    </tr>\n",
       "  </thead>\n",
       "  <tbody>\n",
       "    <tr>\n",
       "      <th>0</th>\n",
       "      <td>0</td>\n",
       "      <td>1.0</td>\n",
       "    </tr>\n",
       "    <tr>\n",
       "      <th>1</th>\n",
       "      <td>1</td>\n",
       "      <td>1.0</td>\n",
       "    </tr>\n",
       "    <tr>\n",
       "      <th>2</th>\n",
       "      <td>2</td>\n",
       "      <td>1.0</td>\n",
       "    </tr>\n",
       "    <tr>\n",
       "      <th>3</th>\n",
       "      <td>3</td>\n",
       "      <td>1.0</td>\n",
       "    </tr>\n",
       "    <tr>\n",
       "      <th>4</th>\n",
       "      <td>4</td>\n",
       "      <td>1.0</td>\n",
       "    </tr>\n",
       "    <tr>\n",
       "      <th>...</th>\n",
       "      <td>...</td>\n",
       "      <td>...</td>\n",
       "    </tr>\n",
       "    <tr>\n",
       "      <th>214195</th>\n",
       "      <td>214195</td>\n",
       "      <td>1.0</td>\n",
       "    </tr>\n",
       "    <tr>\n",
       "      <th>214196</th>\n",
       "      <td>214196</td>\n",
       "      <td>1.0</td>\n",
       "    </tr>\n",
       "    <tr>\n",
       "      <th>214197</th>\n",
       "      <td>214197</td>\n",
       "      <td>1.0</td>\n",
       "    </tr>\n",
       "    <tr>\n",
       "      <th>214198</th>\n",
       "      <td>214198</td>\n",
       "      <td>1.0</td>\n",
       "    </tr>\n",
       "    <tr>\n",
       "      <th>214199</th>\n",
       "      <td>214199</td>\n",
       "      <td>1.0</td>\n",
       "    </tr>\n",
       "  </tbody>\n",
       "</table>\n",
       "<p>214200 rows × 2 columns</p>\n",
       "</div>"
      ],
      "text/plain": [
       "            ID  item_cnt_month\n",
       "0            0             1.0\n",
       "1            1             1.0\n",
       "2            2             1.0\n",
       "3            3             1.0\n",
       "4            4             1.0\n",
       "...        ...             ...\n",
       "214195  214195             1.0\n",
       "214196  214196             1.0\n",
       "214197  214197             1.0\n",
       "214198  214198             1.0\n",
       "214199  214199             1.0\n",
       "\n",
       "[214200 rows x 2 columns]"
      ]
     },
     "execution_count": 97,
     "metadata": {},
     "output_type": "execute_result"
    }
   ],
   "source": [
    "submiss"
   ]
  },
  {
   "cell_type": "code",
   "execution_count": 98,
   "metadata": {
    "execution": {
     "iopub.execute_input": "2020-10-11T04:29:57.850938Z",
     "iopub.status.busy": "2020-10-11T04:29:57.850229Z",
     "iopub.status.idle": "2020-10-11T04:29:58.648512Z",
     "shell.execute_reply": "2020-10-11T04:29:58.646980Z"
    },
    "papermill": {
     "duration": 0.98092,
     "end_time": "2020-10-11T04:29:58.648674",
     "exception": false,
     "start_time": "2020-10-11T04:29:57.667754",
     "status": "completed"
    },
    "tags": []
   },
   "outputs": [],
   "source": [
    "submiss.to_csv(\"11.csv\",index=False)"
   ]
  }
 ],
 "metadata": {
  "kernelspec": {
   "display_name": "Python 3",
   "language": "python",
   "name": "python3"
  },
  "language_info": {
   "codemirror_mode": {
    "name": "ipython",
    "version": 3
   },
   "file_extension": ".py",
   "mimetype": "text/x-python",
   "name": "python",
   "nbconvert_exporter": "python",
   "pygments_lexer": "ipython3",
   "version": "3.7.6"
  },
  "papermill": {
   "duration": 916.545026,
   "end_time": "2020-10-11T04:30:00.068044",
   "environment_variables": {},
   "exception": null,
   "input_path": "__notebook__.ipynb",
   "output_path": "__notebook__.ipynb",
   "parameters": {},
   "start_time": "2020-10-11T04:14:43.523018",
   "version": "2.1.0"
  }
 },
 "nbformat": 4,
 "nbformat_minor": 4
}
